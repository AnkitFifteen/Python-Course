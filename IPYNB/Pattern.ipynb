{
 "cells": [
  {
   "cell_type": "code",
   "execution_count": 1,
   "id": "e4216e78-920b-4bab-98ad-7097f3a22577",
   "metadata": {},
   "outputs": [
    {
     "name": "stdout",
     "output_type": "stream",
     "text": [
      "*\n",
      "*\n",
      "*\n",
      "*\n"
     ]
    }
   ],
   "source": [
    "for i in range(1, 5):\n",
    "    print(\"*\")"
   ]
  },
  {
   "cell_type": "code",
   "execution_count": 2,
   "id": "0757597b-8e63-476e-be85-eeb37a5acdf9",
   "metadata": {},
   "outputs": [
    {
     "name": "stdout",
     "output_type": "stream",
     "text": [
      "****"
     ]
    }
   ],
   "source": [
    "for i in range(1, 5):\n",
    "    print(\"*\", end = \"\")"
   ]
  },
  {
   "cell_type": "code",
   "execution_count": 3,
   "id": "80612f28-29ec-4c7b-a11e-da09147e8751",
   "metadata": {},
   "outputs": [
    {
     "name": "stdout",
     "output_type": "stream",
     "text": [
      "*\n",
      "*\n",
      "*\n",
      "*\n"
     ]
    }
   ],
   "source": [
    "for i in range(1, 5):\n",
    "    print(\"*\", end = \"\")\n",
    "    print(\"\\r\")"
   ]
  },
  {
   "cell_type": "code",
   "execution_count": 6,
   "id": "204cdd1b-7a11-4f30-bc02-b8059d4c8be1",
   "metadata": {},
   "outputs": [
    {
     "name": "stdout",
     "output_type": "stream",
     "text": [
      "1\n",
      "12\n",
      "123\n",
      "1234\n"
     ]
    }
   ],
   "source": [
    "for i in range(1, 5):\n",
    "    for j in range(1, i + 1):\n",
    "        print(j, end = \"\")\n",
    "    print(\"\\r\")"
   ]
  },
  {
   "cell_type": "code",
   "execution_count": 7,
   "id": "ffa09799-fb76-41cc-81c2-9f8e3ba9acba",
   "metadata": {},
   "outputs": [
    {
     "name": "stdout",
     "output_type": "stream",
     "text": [
      "*\n",
      "**\n",
      "***\n",
      "****\n"
     ]
    }
   ],
   "source": [
    "\"\"\"\n",
    "*\n",
    "**\n",
    "***\n",
    "****\n",
    "\"\"\"\n",
    "\n",
    "for i in range(1, 5):\n",
    "    for j in range(1, i + 1):\n",
    "        print(\"*\", end = \"\")\n",
    "    print(\"\\r\")"
   ]
  },
  {
   "cell_type": "code",
   "execution_count": 21,
   "id": "411a89bf-640c-4cb9-a917-9d2c3d2aa191",
   "metadata": {},
   "outputs": [
    {
     "name": "stdout",
     "output_type": "stream",
     "text": [
      "   *\n",
      "  **\n",
      " ***\n",
      "****\n"
     ]
    }
   ],
   "source": [
    "\"\"\"\n",
    "   *\n",
    "  **\n",
    " ***\n",
    "****\n",
    "\"\"\"\n",
    "\n",
    "max_rows = 5\n",
    "space = max_rows - 2\n",
    "for rows in range(1, max_rows):\n",
    "    print(\" \" * space + \"*\" * rows)\n",
    "    space -= 1"
   ]
  },
  {
   "cell_type": "code",
   "execution_count": 24,
   "id": "84ab10d8-55bf-4b3e-b9b4-4ce5fd6044e3",
   "metadata": {},
   "outputs": [
    {
     "name": "stdout",
     "output_type": "stream",
     "text": [
      "   * \n",
      "  * * \n",
      " * * * \n",
      "* * * * \n"
     ]
    }
   ],
   "source": [
    "\"\"\"\n",
    "   *\n",
    "  * *\n",
    " * * *\n",
    "* * * *\n",
    "\"\"\"\n",
    "\n",
    "max_rows = 5\n",
    "space = max_rows - 2\n",
    "for rows in range(1, max_rows):\n",
    "    print(\" \" * space + \"* \" * rows)\n",
    "    space -= 1"
   ]
  },
  {
   "cell_type": "code",
   "execution_count": 32,
   "id": "5ea84288-de5d-4ac9-9d2f-0d8331d4cdee",
   "metadata": {},
   "outputs": [
    {
     "name": "stdout",
     "output_type": "stream",
     "text": [
      "   *\n",
      "  **\n",
      " ***\n",
      "****\n"
     ]
    }
   ],
   "source": [
    "\"\"\"\n",
    "   *\n",
    "  **\n",
    " ***\n",
    "****\n",
    "\"\"\"\n",
    "\n",
    "for i in range(1, 5):\n",
    "    for k in range(1, 5-i):\n",
    "        print(\" \", end = \"\")\n",
    "    for j in range(1, i + 1):\n",
    "        print(\"*\", end = \"\")\n",
    "    print(\"\")"
   ]
  },
  {
   "cell_type": "code",
   "execution_count": null,
   "id": "69d5aab6-1648-4eda-bd52-8bb15cf03f4c",
   "metadata": {},
   "outputs": [],
   "source": [
    "\"\"\"\n",
    "****\n",
    "***\n",
    "**\n",
    "*\n",
    "\"\"\""
   ]
  },
  {
   "cell_type": "code",
   "execution_count": null,
   "id": "9923a096-dc28-4989-823b-25b1f0015ddf",
   "metadata": {},
   "outputs": [],
   "source": [
    "\"\"\"\n",
    "****\n",
    " ***\n",
    "  **\n",
    "   *\n",
    "\"\"\""
   ]
  },
  {
   "cell_type": "code",
   "execution_count": null,
   "id": "afba735f-1879-43ef-9937-735e44b7ae6c",
   "metadata": {},
   "outputs": [],
   "source": [
    "\"\"\"\n",
    "* * * *\n",
    " * * *\n",
    "  * *\n",
    "   *\n",
    "\"\"\""
   ]
  }
 ],
 "metadata": {
  "kernelspec": {
   "display_name": "Python 3 (ipykernel)",
   "language": "python",
   "name": "python3"
  },
  "language_info": {
   "codemirror_mode": {
    "name": "ipython",
    "version": 3
   },
   "file_extension": ".py",
   "mimetype": "text/x-python",
   "name": "python",
   "nbconvert_exporter": "python",
   "pygments_lexer": "ipython3",
   "version": "3.11.7"
  }
 },
 "nbformat": 4,
 "nbformat_minor": 5
}
