{
 "cells": [
  {
   "cell_type": "code",
   "execution_count": null,
   "metadata": {},
   "outputs": [],
   "source": [
    "'''\n",
    "find the missing number\n",
    "2 4 6 10 12\n",
    "'''\n",
    "\n",
    "number = [2,4,6,10,12]\n",
    "\n",
    "def logic_1(number):\n",
    "    checker_list = list()\n",
    "    checker_list.append(number[0])\n",
    "    \n",
    "    next_diff = number[1] - number[0]\n",
    "    if number[2] - number[1] == next_diff:\n",
    "        for index in range (0, len(number)):\n",
    "            checker_list.append(checker_list[index] + next_diff)\n",
    "\n",
    "    for element in checker_list:\n",
    "        if element not in number:\n",
    "            print(\"Missing from logic 1:\", element)\n",
    "            return element\n",
    "\n",
    "logic_1(number)"
   ]
  }
 ],
 "metadata": {
  "language_info": {
   "name": "python"
  }
 },
 "nbformat": 4,
 "nbformat_minor": 2
}
