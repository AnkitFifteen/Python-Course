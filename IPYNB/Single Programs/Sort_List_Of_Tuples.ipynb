{
 "cells": [
  {
   "cell_type": "code",
   "execution_count": null,
   "metadata": {},
   "outputs": [],
   "source": [
    "\"\"\"\n",
    "SORT LIST PROG\n",
    "\n",
    "original_list = [(1,2,3), (3,4,6), (2,1,3)]\n",
    "sort using 2nd ele, 2 4 1\n",
    "\n",
    "Expected O/P:\n",
    "sorted_list = [(2,1,3), (1,2,3), (3,4,6)]\n",
    "\"\"\"\n",
    "\n",
    "original_list = [(1,2,3), (3,4,6), (2,1,3)]\n",
    "sorted_list = list()\n",
    "\n",
    "sort_pos_index = 1\n",
    "sort_pos_index_vals = list()\n",
    "\n",
    "# saving the mid ele of each tuple in `sort_pos_index_vals`\n",
    "for original_list_index in range(0, len(original_list)):\n",
    "    sort_pos_index_vals.append(original_list[original_list_index][sort_pos_index])\n",
    "\n",
    "# Sorting `sort_pos_index_vals` in asc order\n",
    "index_count = 0\n",
    "for val in sort_pos_index_vals:\n",
    "    least_value = min(sort_pos_index_vals[index_count:])\n",
    "    sort_pos_index_vals.remove(least_value)\n",
    "    sort_pos_index_vals.insert(index_count, least_value)\n",
    "    index_count += 1\n",
    "\n",
    "# Finding tuples from original_list according to `sort_pos_index_vals`\n",
    "for val in sort_pos_index_vals:\n",
    "    if original_list[0][1] == val:\n",
    "        sorted_list.append(original_list[0])\n",
    "    \n",
    "    if original_list[1][1] == val:\n",
    "        sorted_list.append(original_list[1])\n",
    "        \n",
    "    if original_list[2][1] == val:\n",
    "        sorted_list.append(original_list[2])\n",
    "\n",
    "print(sorted_list)"
   ]
  }
 ],
 "metadata": {
  "language_info": {
   "name": "python"
  }
 },
 "nbformat": 4,
 "nbformat_minor": 2
}
