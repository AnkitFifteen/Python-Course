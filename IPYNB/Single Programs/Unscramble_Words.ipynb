{
 "cells": [
  {
   "cell_type": "code",
   "execution_count": 1,
   "metadata": {},
   "outputs": [
    {
     "name": "stdout",
     "output_type": "stream",
     "text": [
      "Guess the word:  atc\n",
      "Guess the word:  arc\n",
      "Guess the word:  tha\n",
      "LAST CHANCE TO GUESS THE PREVIOUS WORD!\n",
      "Guess the word:  tha\n",
      "\n",
      "Guess the word:  athe\n",
      "LAST CHANCE TO GUESS THE PREVIOUS WORD!\n",
      "Guess the word:  athe\n",
      "\n",
      "Guess the word:  oth\n",
      "LAST CHANCE TO GUESS THE PREVIOUS WORD!\n",
      "Guess the word:  oth\n",
      "\n",
      "Guess the word:  hre\n",
      "LAST CHANCE TO GUESS THE PREVIOUS WORD!\n",
      "Guess the word:  hre\n",
      "Guess the word:  eta\n",
      "Guess the word:  aet\n"
     ]
    }
   ],
   "source": [
    "unscrambled = ['cat', 'car', 'hat', 'hate', 'hot', 'her', 'ate', 'eat']\n",
    "scrambled = ['atc', 'arc', 'tha', 'athe', 'oth', 'hre', 'eta', 'aet']\n",
    "chances = 2\n",
    "correct_answer = False\n",
    "index = 0\n",
    "\n",
    "for word in scrambled:\n",
    "    while chances > 0 and correct_answer == False:\n",
    "        print(\"Guess the word: \", word)\n",
    "        k = input()\n",
    "        if k == unscrambled[index]:\n",
    "            correct_answer = True\n",
    "            break\n",
    "        else:\n",
    "            chances -= 1\n",
    "            if chances != 0:\n",
    "                print(\"LAST CHANCE TO GUESS THE PREVIOUS WORD!\")\n",
    "            else:\n",
    "                print(\"\")\n",
    "    index += 1\n",
    "    chances = 2\n",
    "    correct_answer = False"
   ]
  },
  {
   "cell_type": "code",
   "execution_count": null,
   "metadata": {},
   "outputs": [],
   "source": []
  }
 ],
 "metadata": {
  "kernelspec": {
   "display_name": "Python 3",
   "language": "python",
   "name": "python3"
  },
  "language_info": {
   "codemirror_mode": {
    "name": "ipython",
    "version": 3
   },
   "file_extension": ".py",
   "mimetype": "text/x-python",
   "name": "python",
   "nbconvert_exporter": "python",
   "pygments_lexer": "ipython3",
   "version": "3.10.13"
  }
 },
 "nbformat": 4,
 "nbformat_minor": 2
}
