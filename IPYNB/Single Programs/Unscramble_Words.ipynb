{
 "cells": [
  {
   "cell_type": "code",
   "execution_count": null,
   "metadata": {},
   "outputs": [],
   "source": [
    "words = ['cat', 'car', 'hat', 'hate', 'hot', 'her', 'ate', 'eat']\n",
    "scrambled = ['atc', 'arc', 'tha', 'athe', 'oth', 'hre', 'eta', 'aet']\n",
    "chances = 2\n",
    "correct_answer = False\n",
    "index = 0\n",
    "\n",
    "for word in words2:\n",
    "    while chances > 0 and correct_answer == False:\n",
    "        print(\"Guess the word: \", word)\n",
    "        k = input()\n",
    "        if k == words[index]:\n",
    "            correct_answer = True\n",
    "            break\n",
    "        else:\n",
    "            chances -= 1\n",
    "            if chances != 0:\n",
    "                print(\"LAST CHANCE TO GUESS THE PREVIOUS WORD!\")\n",
    "            else:\n",
    "                print(\"\")\n",
    "    index += 1\n",
    "    chances = 2\n",
    "    correct_answer = False"
   ]
  }
 ],
 "metadata": {
  "language_info": {
   "name": "python"
  }
 },
 "nbformat": 4,
 "nbformat_minor": 2
}
