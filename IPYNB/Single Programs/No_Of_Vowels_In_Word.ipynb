{
 "cells": [
  {
   "cell_type": "code",
   "execution_count": null,
   "metadata": {},
   "outputs": [],
   "source": [
    "#No. of vowels in word game\n",
    "\n",
    "words = ['Apple', 'Mango', 'Chikoo']\n",
    "vowels = ['A', 'a', 'E', 'e', 'I', 'i', 'O', 'o', 'U', 'u']\n",
    "occurrence = 0\n",
    "letter_occurrence = 0\n",
    "\n",
    "for word in words:\n",
    "    for letter in word:\n",
    "        if letter in vowels:\n",
    "            occurrence = occurrence + 1\n",
    "            print(\"Occurrence of \", letter, \" : \", letter_occurrence)\n",
    "    print(\"No. of vowels: \", occurrence)\n",
    "    occurrence = 0"
   ]
  }
 ],
 "metadata": {
  "language_info": {
   "name": "python"
  }
 },
 "nbformat": 4,
 "nbformat_minor": 2
}
