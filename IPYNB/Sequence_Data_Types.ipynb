{
 "cells": [
  {
   "cell_type": "code",
   "execution_count": 1,
   "id": "0c7cd975-bd9d-477f-a5b2-d61b953e80f1",
   "metadata": {},
   "outputs": [
    {
     "name": "stdout",
     "output_type": "stream",
     "text": [
      "Hello, World!\n"
     ]
    }
   ],
   "source": [
    "a = \"Hello, World!\"\n",
    "print(a)"
   ]
  },
  {
   "cell_type": "code",
   "execution_count": 3,
   "id": "c6511fa6-fa33-4bd2-a252-fc141bbf0d0b",
   "metadata": {},
   "outputs": [
    {
     "name": "stdout",
     "output_type": "stream",
     "text": [
      "Hello, World!"
     ]
    }
   ],
   "source": [
    "for i in range(0, len(a)):\n",
    "    print(a[i], end = \"\")"
   ]
  },
  {
   "cell_type": "code",
   "execution_count": 4,
   "id": "b0670eaf-e792-43ff-b148-5e4b4440c25a",
   "metadata": {},
   "outputs": [
    {
     "name": "stdout",
     "output_type": "stream",
     "text": [
      "Hello, World!"
     ]
    }
   ],
   "source": [
    "for i in a:\n",
    "    print(i, end = \"\")"
   ]
  },
  {
   "cell_type": "code",
   "execution_count": 12,
   "id": "ec0f128e-d7c1-44c3-9399-fcfd8102f299",
   "metadata": {},
   "outputs": [
    {
     "name": "stdout",
     "output_type": "stream",
     "text": [
      "HELLO, WORLD!hello, world!['ergvewrter', '', 'rdsklkd']"
     ]
    }
   ],
   "source": [
    "print(a.upper(), end = \"\")\n",
    "print(a.lower(), end = \"\")\n",
    "#print(a.reverse())\n",
    "b = \"ergvewrterhhrdsklkd\"\n",
    "print(b.split('h'), end = \"\")"
   ]
  },
  {
   "cell_type": "code",
   "execution_count": 9,
   "id": "f36963ef-4100-42bb-97bb-2a94f7d2a4c7",
   "metadata": {},
   "outputs": [
    {
     "name": "stdout",
     "output_type": "stream",
     "text": [
      "World!\n"
     ]
    }
   ],
   "source": [
    "print(a[-6:])"
   ]
  },
  {
   "cell_type": "code",
   "execution_count": 10,
   "id": "aff8e02c-1d07-4a73-837e-2f09b93e8dac",
   "metadata": {},
   "outputs": [
    {
     "name": "stdout",
     "output_type": "stream",
     "text": [
      "H\n",
      "e\n",
      "l\n",
      "l\n"
     ]
    }
   ],
   "source": [
    "lista = [1, 2, 3, \"prachi\"]\n",
    "for i in range(0, len(lista)):\n",
    "    print(a[i])"
   ]
  },
  {
   "cell_type": "code",
   "execution_count": 13,
   "id": "226e8883-4387-4df1-970b-b7db9c904e38",
   "metadata": {},
   "outputs": [
    {
     "name": "stdout",
     "output_type": "stream",
     "text": [
      "[1, 3, 'prachi']\n"
     ]
    }
   ],
   "source": [
    "lista.pop(1)\n",
    "print(lista)"
   ]
  },
  {
   "cell_type": "code",
   "execution_count": 14,
   "id": "2ceb952e-d1bf-4ff1-8aa0-f92d0e27e233",
   "metadata": {},
   "outputs": [],
   "source": [
    "lista.insert(2, \"prachi\")"
   ]
  },
  {
   "cell_type": "code",
   "execution_count": 15,
   "id": "77efad79-082a-4618-9648-57b67e02cf15",
   "metadata": {},
   "outputs": [
    {
     "name": "stdout",
     "output_type": "stream",
     "text": [
      "[1, 3, 'prachi', 'prachi', 'Jaya']\n"
     ]
    }
   ],
   "source": [
    "b = \"Jaya\"\n",
    "lista.append(b)\n",
    "print(lista)"
   ]
  },
  {
   "cell_type": "code",
   "execution_count": 16,
   "id": "a2b0250a-e047-4e72-bf19-3e14b99a5fdb",
   "metadata": {},
   "outputs": [
    {
     "name": "stdout",
     "output_type": "stream",
     "text": [
      "[1, 3, 'prachi', 'prachi', 'Jaya', 'Asha', 'Lata']\n"
     ]
    }
   ],
   "source": [
    "b = [\"Asha\", \"Lata\"]\n",
    "lista.extend(b)\n",
    "print(lista)"
   ]
  },
  {
   "cell_type": "code",
   "execution_count": 17,
   "id": "87e83e4f-9ea4-4351-af5d-ae5616bb592e",
   "metadata": {},
   "outputs": [
    {
     "name": "stdout",
     "output_type": "stream",
     "text": [
      "[1, 3, 'prachi', 'prachi', 'Jaya', 'Asha', 'Lata', ['Priya', 'Geeta']]\n"
     ]
    }
   ],
   "source": [
    "b = [\"Priya\", \"Geeta\"]\n",
    "lista.append(b)\n",
    "print(lista)"
   ]
  },
  {
   "cell_type": "code",
   "execution_count": 18,
   "id": "b942413a-bc4b-493f-b36d-54f6c09438bb",
   "metadata": {},
   "outputs": [
    {
     "name": "stdout",
     "output_type": "stream",
     "text": [
      "i  0  lista[i] :  1\n",
      "i  1  lista[i] :  3\n",
      "i  2  lista[i] :  prachi\n",
      "i  3  lista[i] :  prachi\n",
      "i  4  lista[i] :  Jaya\n",
      "i  5  lista[i] :  Asha\n",
      "i  6  lista[i] :  Lata\n",
      "i  7  lista[i] :  ['Priya', 'Geeta']\n"
     ]
    }
   ],
   "source": [
    "for i in range(0, len(lista)):\n",
    "    print(\"i \" ,i ,\" lista[i] : \", lista[i])"
   ]
  },
  {
   "cell_type": "code",
   "execution_count": 17,
   "id": "46274720-ccd1-43e0-bc3e-bc94f51074f0",
   "metadata": {},
   "outputs": [
    {
     "name": "stdout",
     "output_type": "stream",
     "text": [
      "H e _ _ o\n"
     ]
    },
    {
     "name": "stdout",
     "output_type": "stream",
     "text": [
      "Enter your letter for 1st blank spot:  l\n"
     ]
    },
    {
     "name": "stdout",
     "output_type": "stream",
     "text": [
      "l\n"
     ]
    },
    {
     "name": "stdout",
     "output_type": "stream",
     "text": [
      "Enter your letter for 2nd blank spot:  l\n"
     ]
    },
    {
     "name": "stdout",
     "output_type": "stream",
     "text": [
      "l\n",
      "GAME OVER!\n",
      "A _ p _ e\n"
     ]
    },
    {
     "name": "stdout",
     "output_type": "stream",
     "text": [
      "Enter your letter for 1st blank spot:  p\n"
     ]
    },
    {
     "name": "stdout",
     "output_type": "stream",
     "text": [
      "p\n"
     ]
    },
    {
     "name": "stdout",
     "output_type": "stream",
     "text": [
      "Enter your letter for 2nd blank spot:  l\n"
     ]
    },
    {
     "name": "stdout",
     "output_type": "stream",
     "text": [
      "l\n",
      "GAME OVER!\n",
      "W o _ _ d\n"
     ]
    },
    {
     "ename": "KeyboardInterrupt",
     "evalue": "Interrupted by user",
     "output_type": "error",
     "traceback": [
      "\u001b[1;31m---------------------------------------------------------------------------\u001b[0m",
      "\u001b[1;31mKeyboardInterrupt\u001b[0m                         Traceback (most recent call last)",
      "Cell \u001b[1;32mIn[17], line 9\u001b[0m\n\u001b[0;32m      7\u001b[0m \u001b[38;5;28;01mfor\u001b[39;00m word \u001b[38;5;129;01min\u001b[39;00m words:\n\u001b[0;32m      8\u001b[0m     \u001b[38;5;28mprint\u001b[39m(word)\n\u001b[1;32m----> 9\u001b[0m     l1 \u001b[38;5;241m=\u001b[39m \u001b[38;5;28mprint\u001b[39m(\u001b[38;5;28minput\u001b[39m(\u001b[38;5;124m\"\u001b[39m\u001b[38;5;124mEnter your letter for 1st blank spot: \u001b[39m\u001b[38;5;124m\"\u001b[39m))\n\u001b[0;32m     10\u001b[0m     l2 \u001b[38;5;241m=\u001b[39m \u001b[38;5;28mprint\u001b[39m(\u001b[38;5;28minput\u001b[39m(\u001b[38;5;124m\"\u001b[39m\u001b[38;5;124mEnter your letter for 2nd blank spot: \u001b[39m\u001b[38;5;124m\"\u001b[39m))\n\u001b[0;32m     11\u001b[0m     \u001b[38;5;28;01mif\u001b[39;00m l1 \u001b[38;5;241m==\u001b[39m answers[pos] \u001b[38;5;129;01mand\u001b[39;00m l2 \u001b[38;5;241m==\u001b[39m answers[pos \u001b[38;5;241m+\u001b[39m \u001b[38;5;241m1\u001b[39m]: \n",
      "File \u001b[1;32mC:\\ProgramData\\anaconda3\\Lib\\site-packages\\ipykernel\\kernelbase.py:1262\u001b[0m, in \u001b[0;36mKernel.raw_input\u001b[1;34m(self, prompt)\u001b[0m\n\u001b[0;32m   1260\u001b[0m     msg \u001b[38;5;241m=\u001b[39m \u001b[38;5;124m\"\u001b[39m\u001b[38;5;124mraw_input was called, but this frontend does not support input requests.\u001b[39m\u001b[38;5;124m\"\u001b[39m\n\u001b[0;32m   1261\u001b[0m     \u001b[38;5;28;01mraise\u001b[39;00m StdinNotImplementedError(msg)\n\u001b[1;32m-> 1262\u001b[0m \u001b[38;5;28;01mreturn\u001b[39;00m \u001b[38;5;28mself\u001b[39m\u001b[38;5;241m.\u001b[39m_input_request(\n\u001b[0;32m   1263\u001b[0m     \u001b[38;5;28mstr\u001b[39m(prompt),\n\u001b[0;32m   1264\u001b[0m     \u001b[38;5;28mself\u001b[39m\u001b[38;5;241m.\u001b[39m_parent_ident[\u001b[38;5;124m\"\u001b[39m\u001b[38;5;124mshell\u001b[39m\u001b[38;5;124m\"\u001b[39m],\n\u001b[0;32m   1265\u001b[0m     \u001b[38;5;28mself\u001b[39m\u001b[38;5;241m.\u001b[39mget_parent(\u001b[38;5;124m\"\u001b[39m\u001b[38;5;124mshell\u001b[39m\u001b[38;5;124m\"\u001b[39m),\n\u001b[0;32m   1266\u001b[0m     password\u001b[38;5;241m=\u001b[39m\u001b[38;5;28;01mFalse\u001b[39;00m,\n\u001b[0;32m   1267\u001b[0m )\n",
      "File \u001b[1;32mC:\\ProgramData\\anaconda3\\Lib\\site-packages\\ipykernel\\kernelbase.py:1305\u001b[0m, in \u001b[0;36mKernel._input_request\u001b[1;34m(self, prompt, ident, parent, password)\u001b[0m\n\u001b[0;32m   1302\u001b[0m \u001b[38;5;28;01mexcept\u001b[39;00m \u001b[38;5;167;01mKeyboardInterrupt\u001b[39;00m:\n\u001b[0;32m   1303\u001b[0m     \u001b[38;5;66;03m# re-raise KeyboardInterrupt, to truncate traceback\u001b[39;00m\n\u001b[0;32m   1304\u001b[0m     msg \u001b[38;5;241m=\u001b[39m \u001b[38;5;124m\"\u001b[39m\u001b[38;5;124mInterrupted by user\u001b[39m\u001b[38;5;124m\"\u001b[39m\n\u001b[1;32m-> 1305\u001b[0m     \u001b[38;5;28;01mraise\u001b[39;00m \u001b[38;5;167;01mKeyboardInterrupt\u001b[39;00m(msg) \u001b[38;5;28;01mfrom\u001b[39;00m \u001b[38;5;28;01mNone\u001b[39;00m\n\u001b[0;32m   1306\u001b[0m \u001b[38;5;28;01mexcept\u001b[39;00m \u001b[38;5;167;01mException\u001b[39;00m:\n\u001b[0;32m   1307\u001b[0m     \u001b[38;5;28mself\u001b[39m\u001b[38;5;241m.\u001b[39mlog\u001b[38;5;241m.\u001b[39mwarning(\u001b[38;5;124m\"\u001b[39m\u001b[38;5;124mInvalid Message:\u001b[39m\u001b[38;5;124m\"\u001b[39m, exc_info\u001b[38;5;241m=\u001b[39m\u001b[38;5;28;01mTrue\u001b[39;00m)\n",
      "\u001b[1;31mKeyboardInterrupt\u001b[0m: Interrupted by user"
     ]
    }
   ],
   "source": [
    "#Fill in the blanks 3 word game\n",
    "\n",
    "words = [\"H e _ _ o\", \"A _ p _ e\", \"W o _ _ d\", \"_ a m _\"]\n",
    "answers = [\"l\", \"l\", \"p\", \"l\", \"r\", \"l\", \"G\", \"e\"]\n",
    "pos = 0\n",
    "\n",
    "for word in words:\n",
    "    print(word)\n",
    "    l1 = print(input(\"Enter your letter for 1st blank spot: \"))\n",
    "    l2 = print(input(\"Enter your letter for 2nd blank spot: \"))\n",
    "    if l1 == answers[pos] and l2 == answers[pos + 1]: \n",
    "        print(\"CORRECT GUESS\")\n",
    "        pos += 1\n",
    "    elif:\n",
    "        pos == words.length break\n",
    "    else:\n",
    "        print(\"GAME OVER!\")\n",
    "    \n",
    "    \n",
    "    \n"
   ]
  },
  {
   "cell_type": "code",
   "execution_count": 28,
   "id": "3151a067-876a-4de5-80b6-026c58380209",
   "metadata": {},
   "outputs": [
    {
     "name": "stdout",
     "output_type": "stream",
     "text": [
      "Ap_le\n"
     ]
    },
    {
     "name": "stdout",
     "output_type": "stream",
     "text": [
      "Please guess the letter:  p\n"
     ]
    },
    {
     "name": "stdout",
     "output_type": "stream",
     "text": [
      "CORRECT GUESS\n",
      "Points:  1\n",
      "Ma_go\n"
     ]
    },
    {
     "name": "stdout",
     "output_type": "stream",
     "text": [
      "Please guess the letter:  n\n"
     ]
    },
    {
     "name": "stdout",
     "output_type": "stream",
     "text": [
      "CORRECT GUESS\n",
      "Points:  2\n",
      "He_lo\n"
     ]
    },
    {
     "name": "stdout",
     "output_type": "stream",
     "text": [
      "Please guess the letter:  l\n"
     ]
    },
    {
     "name": "stdout",
     "output_type": "stream",
     "text": [
      "CORRECT GUESS\n",
      "Points:  3\n"
     ]
    }
   ],
   "source": [
    "#Fill in the blanks 3rd letter missing game\n",
    "\n",
    "words = [\"Apple\", \"Mango\", \"Hello\"]\n",
    "points = 0\n",
    "\n",
    "for word in words:\n",
    "    print(word[0] + word[1] + \"_\" + word[3:])\n",
    "    letter = str(input(\"Please guess the letter: \"))\n",
    "    if letter == word[2]: \n",
    "        print(\"CORRECT GUESS\")\n",
    "        points += 1\n",
    "        print(\"Points: \", points)\n",
    "    else:\n",
    "        print(\"INCORRECT GUESS TRY AGAIN\")"
   ]
  },
  {
   "cell_type": "code",
   "execution_count": 22,
   "id": "ffdbb99b-27ae-4866-b051-0dbc2e6da29d",
   "metadata": {},
   "outputs": [
    {
     "ename": "AttributeError",
     "evalue": "'list' object has no attribute 'len'",
     "output_type": "error",
     "traceback": [
      "\u001b[1;31m---------------------------------------------------------------------------\u001b[0m",
      "\u001b[1;31mAttributeError\u001b[0m                            Traceback (most recent call last)",
      "Cell \u001b[1;32mIn[22], line 3\u001b[0m\n\u001b[0;32m      1\u001b[0m answers \u001b[38;5;241m=\u001b[39m [\u001b[38;5;124m\"\u001b[39m\u001b[38;5;124ml\u001b[39m\u001b[38;5;124m\"\u001b[39m, \u001b[38;5;124m\"\u001b[39m\u001b[38;5;124ml\u001b[39m\u001b[38;5;124m\"\u001b[39m, \u001b[38;5;124m\"\u001b[39m\u001b[38;5;124mp\u001b[39m\u001b[38;5;124m\"\u001b[39m, \u001b[38;5;124m\"\u001b[39m\u001b[38;5;124ml\u001b[39m\u001b[38;5;124m\"\u001b[39m, \u001b[38;5;124m\"\u001b[39m\u001b[38;5;124mr\u001b[39m\u001b[38;5;124m\"\u001b[39m, \u001b[38;5;124m\"\u001b[39m\u001b[38;5;124ml\u001b[39m\u001b[38;5;124m\"\u001b[39m, \u001b[38;5;124m\"\u001b[39m\u001b[38;5;124mG\u001b[39m\u001b[38;5;124m\"\u001b[39m, \u001b[38;5;124m\"\u001b[39m\u001b[38;5;124me\u001b[39m\u001b[38;5;124m\"\u001b[39m]\n\u001b[0;32m      2\u001b[0m answers[pos \u001b[38;5;241m+\u001b[39m \u001b[38;5;241m1\u001b[39m]\n\u001b[1;32m----> 3\u001b[0m answers\u001b[38;5;241m.\u001b[39mlen\n",
      "\u001b[1;31mAttributeError\u001b[0m: 'list' object has no attribute 'len'"
     ]
    }
   ],
   "source": [
    "answers = [\"l\", \"l\", \"p\", \"l\", \"r\", \"l\", \"G\", \"e\"]\n",
    "answers[pos + 1]\n",
    "answers.len"
   ]
  },
  {
   "cell_type": "code",
   "execution_count": null,
   "id": "175672e2-b4ef-463f-a09a-9dc553afb457",
   "metadata": {},
   "outputs": [],
   "source": [
    "pos"
   ]
  },
  {
   "cell_type": "code",
   "execution_count": 15,
   "id": "d2302efe-269e-4825-be9a-04d942d7fc67",
   "metadata": {},
   "outputs": [
    {
     "data": {
      "text/plain": [
       "True"
      ]
     },
     "execution_count": 15,
     "metadata": {},
     "output_type": "execute_result"
    }
   ],
   "source": [
    "\"l\" == answers[1]"
   ]
  },
  {
   "cell_type": "code",
   "execution_count": 46,
   "id": "7ee00b03-25de-4391-8261-39ed24a91661",
   "metadata": {},
   "outputs": [
    {
     "name": "stdout",
     "output_type": "stream",
     "text": [
      "APP_E"
     ]
    },
    {
     "name": "stdout",
     "output_type": "stream",
     "text": [
      "Guess the letter L\n"
     ]
    },
    {
     "name": "stdout",
     "output_type": "stream",
     "text": [
      "\n",
      "_ANGO"
     ]
    },
    {
     "name": "stdout",
     "output_type": "stream",
     "text": [
      "Guess the letter M\n"
     ]
    },
    {
     "name": "stdout",
     "output_type": "stream",
     "text": [
      "\n",
      "W_RLD"
     ]
    },
    {
     "name": "stdout",
     "output_type": "stream",
     "text": [
      "Guess the letter O\n"
     ]
    },
    {
     "name": "stdout",
     "output_type": "stream",
     "text": [
      "\n",
      "H_PPY"
     ]
    },
    {
     "name": "stdout",
     "output_type": "stream",
     "text": [
      "Guess the letter A\n"
     ]
    },
    {
     "name": "stdout",
     "output_type": "stream",
     "text": [
      "\n",
      "Final Points  4\n"
     ]
    }
   ],
   "source": [
    "import random\n",
    "words = ['APPLE','MANGO','WORLD','HAPPY']\n",
    "point = 0\n",
    "guess = 0\n",
    "for i in words:\n",
    "    k = random.choice(range(0,len(i)))\n",
    "    for j in range(0,len(i)):\n",
    "        if j == k:\n",
    "            print('_',end=\"\")\n",
    "        else:\n",
    "            print(i[j],end=\"\")\n",
    "    guess = 0\n",
    "    while guess < 2:\n",
    "        iletter = input(\"Guess the letter\")\n",
    "        if i[k] == iletter:\n",
    "            point = point + 1\n",
    "            guess = 2\n",
    "        else :\n",
    "            print(\"Incorrect Guess\")\n",
    "            guess = guess + 1\n",
    "        print(\"\")\n",
    "print(\"Final Points \",point)"
   ]
  },
  {
   "cell_type": "code",
   "execution_count": 41,
   "id": "40039abf-8ed8-4fac-9afd-bca22843dc66",
   "metadata": {},
   "outputs": [
    {
     "name": "stdout",
     "output_type": "stream",
     "text": [
      "p\n",
      "1\n"
     ]
    }
   ],
   "source": [
    "import random\n",
    "words = [\"APPLE\", \"MANGO\", \"WORLD\", \"HAPPY\"]\n",
    "word = \"Apple\"\n",
    "i = random.choice(range(0, len(word)))\n",
    "print(word[i])\n",
    "print(random.choice(range(0,6)))"
   ]
  },
  {
   "cell_type": "code",
   "execution_count": 50,
   "id": "4c40ab25-b218-4911-8450-71b94e2cb848",
   "metadata": {},
   "outputs": [
    {
     "name": "stdout",
     "output_type": "stream",
     "text": [
      "Occurrence of  A  :  1\n",
      "Occurrence of  e  :  2\n",
      "No. of vowels:  2\n",
      "Occurrence of  a  :  1\n",
      "Occurrence of  o  :  2\n",
      "No. of vowels:  2\n",
      "Occurrence of  i  :  1\n",
      "Occurrence of  o  :  2\n",
      "Occurrence of  o  :  3\n",
      "No. of vowels:  3\n"
     ]
    }
   ],
   "source": [
    "#No. of vowels in word game\n",
    "\n",
    "words = ['Apple', 'Mango', 'Chikoo']\n",
    "vowels = ['A', 'a', 'E', 'e', 'I', 'i', 'O', 'o', 'U', 'u']\n",
    "occurrence = 0\n",
    "letter_occurrence = 0\n",
    "\n",
    "for word in words:\n",
    "    for letter in word:\n",
    "        if letter in vowels:\n",
    "            occurrence = occurrence + 1\n",
    "            print(\"Occurrence of \", letter, \" : \", letter_occurrence)\n",
    "    print(\"No. of vowels: \", occurrence)\n",
    "    occurrence = 0\n",
    "    "
   ]
  },
  {
   "cell_type": "code",
   "execution_count": 22,
   "id": "1417d2a2-ba6a-45f0-afe0-100d56395ce4",
   "metadata": {},
   "outputs": [
    {
     "name": "stdout",
     "output_type": "stream",
     "text": [
      "(10, 27.8, 'ITVEDANT', 'THANE', 'NAVI-MUMBAI', 125)\n",
      "4\n"
     ]
    },
    {
     "ename": "TypeError",
     "evalue": "unsupported operand type(s) for +: 'int' and 'str'",
     "output_type": "error",
     "traceback": [
      "\u001b[1;31m---------------------------------------------------------------------------\u001b[0m",
      "\u001b[1;31mTypeError\u001b[0m                                 Traceback (most recent call last)",
      "Cell \u001b[1;32mIn[22], line 7\u001b[0m\n\u001b[0;32m      5\u001b[0m \u001b[38;5;28mprint\u001b[39m(\u001b[38;5;28mmin\u001b[39m(u))\n\u001b[0;32m      6\u001b[0m j \u001b[38;5;241m=\u001b[39m (\u001b[38;5;124m'\u001b[39m\u001b[38;5;124madf\u001b[39m\u001b[38;5;124m'\u001b[39m,\u001b[38;5;124m'\u001b[39m\u001b[38;5;124mF\u001b[39m\u001b[38;5;124m'\u001b[39m)\n\u001b[1;32m----> 7\u001b[0m \u001b[38;5;28mprint\u001b[39m(\u001b[38;5;28msum\u001b[39m(j))\n\u001b[0;32m      8\u001b[0m \u001b[38;5;28mprint\u001b[39m(\u001b[38;5;28mtype\u001b[39m(t))\n",
      "\u001b[1;31mTypeError\u001b[0m: unsupported operand type(s) for +: 'int' and 'str'"
     ]
    }
   ],
   "source": [
    "t = (10, 27.8, \"ITVEDANT\", \"THANE\", \"NAVI-MUMBAI\", 125)\n",
    "print(t)\n",
    "y = tuple(t)\n",
    "u = (12,4)\n",
    "print(min(u))\n",
    "j = ('adf','F')\n",
    "print(sum(j))\n",
    "print(type(t))"
   ]
  },
  {
   "cell_type": "code",
   "execution_count": 15,
   "id": "da5a850d-2920-4d39-a48b-bdcb3389d992",
   "metadata": {},
   "outputs": [
    {
     "name": "stdout",
     "output_type": "stream",
     "text": [
      "('apple', 'banana', 'cherry', 'apple', 'cherry')\n",
      "<class 'tuple'>\n"
     ]
    }
   ],
   "source": [
    "thistuple = (\"apple\", \"banana\", \"cherry\", \"apple\", \"cherry\")\n",
    "print(thistuple)\n",
    "print(type(thistuple))"
   ]
  },
  {
   "cell_type": "code",
   "execution_count": 23,
   "id": "6c067ae6-f7b5-41fa-8903-103a72ead03e",
   "metadata": {},
   "outputs": [
    {
     "name": "stdout",
     "output_type": "stream",
     "text": [
      "<class 'str'>\n"
     ]
    }
   ],
   "source": [
    "T5 = ('ABC')\n",
    "print(type(T5))"
   ]
  },
  {
   "cell_type": "code",
   "execution_count": 24,
   "id": "fe07f961-2c40-481b-a489-b61bede30ee4",
   "metadata": {},
   "outputs": [
    {
     "name": "stdout",
     "output_type": "stream",
     "text": [
      "<class 'list'>\n"
     ]
    }
   ],
   "source": [
    "list3 = ['abc']\n",
    "print(type(list3))"
   ]
  },
  {
   "cell_type": "code",
   "execution_count": 25,
   "id": "d6447f95-8de0-427a-b8af-291510b0fbc6",
   "metadata": {},
   "outputs": [
    {
     "name": "stdout",
     "output_type": "stream",
     "text": [
      "{1, 2, 3, 43, 78}\n"
     ]
    },
    {
     "data": {
      "text/plain": [
       "1"
      ]
     },
     "execution_count": 25,
     "metadata": {},
     "output_type": "execute_result"
    }
   ],
   "source": [
    "set = {1, 2, 3, 43}\n",
    "set.add(78)\n",
    "print(set)\n",
    "set.pop()"
   ]
  },
  {
   "cell_type": "code",
   "execution_count": 27,
   "id": "327a672b-032e-4246-aaca-bffb82c7cb66",
   "metadata": {},
   "outputs": [
    {
     "name": "stdout",
     "output_type": "stream",
     "text": [
      "ant\n"
     ]
    }
   ],
   "source": [
    "tuple4 = tuple(('mango', 'ant', 'apple', 'mango'))\n",
    "print(min(tuple4))"
   ]
  },
  {
   "cell_type": "code",
   "execution_count": null,
   "id": "ace6e9a5-49de-4889-ac1e-2fa0063adcd6",
   "metadata": {},
   "outputs": [],
   "source": [
    "import random\n",
    "\n",
    "words = ['cat', 'car', 'hat', 'hate', 'hot', 'her', 'ate', 'eat']\n",
    "chances = 2\n",
    "random.choice(\"cat\")\n"
   ]
  },
  {
   "cell_type": "code",
   "execution_count": 75,
   "id": "0eae52c3-c9c4-4de0-98d1-2b85881c958c",
   "metadata": {},
   "outputs": [
    {
     "name": "stdout",
     "output_type": "stream",
     "text": [
      "Guess the word:  atc\n"
     ]
    },
    {
     "name": "stdout",
     "output_type": "stream",
     "text": [
      " sad\n"
     ]
    },
    {
     "name": "stdout",
     "output_type": "stream",
     "text": [
      "LAST CHANCE TO GUESS THE PREVIOUS WORD!\n",
      "Guess the word:  atc\n"
     ]
    },
    {
     "name": "stdout",
     "output_type": "stream",
     "text": [
      " asd\n"
     ]
    },
    {
     "name": "stdout",
     "output_type": "stream",
     "text": [
      "\n",
      "Guess the word:  arc\n"
     ]
    },
    {
     "name": "stdout",
     "output_type": "stream",
     "text": [
      " car\n"
     ]
    },
    {
     "name": "stdout",
     "output_type": "stream",
     "text": [
      "Guess the word:  tha\n"
     ]
    },
    {
     "name": "stdout",
     "output_type": "stream",
     "text": [
      " hat\n"
     ]
    },
    {
     "name": "stdout",
     "output_type": "stream",
     "text": [
      "Guess the word:  athe\n"
     ]
    },
    {
     "name": "stdout",
     "output_type": "stream",
     "text": [
      " hate\n"
     ]
    },
    {
     "name": "stdout",
     "output_type": "stream",
     "text": [
      "Guess the word:  oth\n"
     ]
    },
    {
     "name": "stdout",
     "output_type": "stream",
     "text": [
      " hot\n"
     ]
    },
    {
     "name": "stdout",
     "output_type": "stream",
     "text": [
      "Guess the word:  hre\n"
     ]
    },
    {
     "ename": "KeyboardInterrupt",
     "evalue": "Interrupted by user",
     "output_type": "error",
     "traceback": [
      "\u001b[1;31m---------------------------------------------------------------------------\u001b[0m",
      "\u001b[1;31mKeyboardInterrupt\u001b[0m                         Traceback (most recent call last)",
      "Cell \u001b[1;32mIn[75], line 10\u001b[0m\n\u001b[0;32m      8\u001b[0m \u001b[38;5;28;01mwhile\u001b[39;00m chances \u001b[38;5;241m>\u001b[39m \u001b[38;5;241m0\u001b[39m \u001b[38;5;129;01mand\u001b[39;00m correct_answer \u001b[38;5;241m==\u001b[39m \u001b[38;5;28;01mFalse\u001b[39;00m:\n\u001b[0;32m      9\u001b[0m     \u001b[38;5;28mprint\u001b[39m(\u001b[38;5;124m\"\u001b[39m\u001b[38;5;124mGuess the word: \u001b[39m\u001b[38;5;124m\"\u001b[39m, word)\n\u001b[1;32m---> 10\u001b[0m     k \u001b[38;5;241m=\u001b[39m \u001b[38;5;28minput\u001b[39m()\n\u001b[0;32m     11\u001b[0m     \u001b[38;5;28;01mif\u001b[39;00m k \u001b[38;5;241m==\u001b[39m words[index]:\n\u001b[0;32m     12\u001b[0m         correct_answer \u001b[38;5;241m=\u001b[39m \u001b[38;5;28;01mTrue\u001b[39;00m\n",
      "File \u001b[1;32mC:\\ProgramData\\anaconda3\\Lib\\site-packages\\ipykernel\\kernelbase.py:1262\u001b[0m, in \u001b[0;36mKernel.raw_input\u001b[1;34m(self, prompt)\u001b[0m\n\u001b[0;32m   1260\u001b[0m     msg \u001b[38;5;241m=\u001b[39m \u001b[38;5;124m\"\u001b[39m\u001b[38;5;124mraw_input was called, but this frontend does not support input requests.\u001b[39m\u001b[38;5;124m\"\u001b[39m\n\u001b[0;32m   1261\u001b[0m     \u001b[38;5;28;01mraise\u001b[39;00m StdinNotImplementedError(msg)\n\u001b[1;32m-> 1262\u001b[0m \u001b[38;5;28;01mreturn\u001b[39;00m \u001b[38;5;28mself\u001b[39m\u001b[38;5;241m.\u001b[39m_input_request(\n\u001b[0;32m   1263\u001b[0m     \u001b[38;5;28mstr\u001b[39m(prompt),\n\u001b[0;32m   1264\u001b[0m     \u001b[38;5;28mself\u001b[39m\u001b[38;5;241m.\u001b[39m_parent_ident[\u001b[38;5;124m\"\u001b[39m\u001b[38;5;124mshell\u001b[39m\u001b[38;5;124m\"\u001b[39m],\n\u001b[0;32m   1265\u001b[0m     \u001b[38;5;28mself\u001b[39m\u001b[38;5;241m.\u001b[39mget_parent(\u001b[38;5;124m\"\u001b[39m\u001b[38;5;124mshell\u001b[39m\u001b[38;5;124m\"\u001b[39m),\n\u001b[0;32m   1266\u001b[0m     password\u001b[38;5;241m=\u001b[39m\u001b[38;5;28;01mFalse\u001b[39;00m,\n\u001b[0;32m   1267\u001b[0m )\n",
      "File \u001b[1;32mC:\\ProgramData\\anaconda3\\Lib\\site-packages\\ipykernel\\kernelbase.py:1305\u001b[0m, in \u001b[0;36mKernel._input_request\u001b[1;34m(self, prompt, ident, parent, password)\u001b[0m\n\u001b[0;32m   1302\u001b[0m \u001b[38;5;28;01mexcept\u001b[39;00m \u001b[38;5;167;01mKeyboardInterrupt\u001b[39;00m:\n\u001b[0;32m   1303\u001b[0m     \u001b[38;5;66;03m# re-raise KeyboardInterrupt, to truncate traceback\u001b[39;00m\n\u001b[0;32m   1304\u001b[0m     msg \u001b[38;5;241m=\u001b[39m \u001b[38;5;124m\"\u001b[39m\u001b[38;5;124mInterrupted by user\u001b[39m\u001b[38;5;124m\"\u001b[39m\n\u001b[1;32m-> 1305\u001b[0m     \u001b[38;5;28;01mraise\u001b[39;00m \u001b[38;5;167;01mKeyboardInterrupt\u001b[39;00m(msg) \u001b[38;5;28;01mfrom\u001b[39;00m \u001b[38;5;28;01mNone\u001b[39;00m\n\u001b[0;32m   1306\u001b[0m \u001b[38;5;28;01mexcept\u001b[39;00m \u001b[38;5;167;01mException\u001b[39;00m:\n\u001b[0;32m   1307\u001b[0m     \u001b[38;5;28mself\u001b[39m\u001b[38;5;241m.\u001b[39mlog\u001b[38;5;241m.\u001b[39mwarning(\u001b[38;5;124m\"\u001b[39m\u001b[38;5;124mInvalid Message:\u001b[39m\u001b[38;5;124m\"\u001b[39m, exc_info\u001b[38;5;241m=\u001b[39m\u001b[38;5;28;01mTrue\u001b[39;00m)\n",
      "\u001b[1;31mKeyboardInterrupt\u001b[0m: Interrupted by user"
     ]
    }
   ],
   "source": [
    "words = ['cat', 'car', 'hat', 'hate', 'hot', 'her', 'ate', 'eat']\n",
    "scrambled = ['atc', 'arc', 'tha', 'athe', 'oth', 'hre', 'eta', 'aet']\n",
    "chances = 2\n",
    "correct_answer = False\n",
    "index = 0\n",
    "\n",
    "for word in words2:\n",
    "    while chances > 0 and correct_answer == False:\n",
    "        print(\"Guess the word: \", word)\n",
    "        k = input()\n",
    "        if k == words[index]:\n",
    "            correct_answer = True\n",
    "            break\n",
    "        else:\n",
    "            chances -= 1\n",
    "            if chances != 0:\n",
    "                print(\"LAST CHANCE TO GUESS THE PREVIOUS WORD!\")\n",
    "            else:\n",
    "                print(\"\")\n",
    "    index += 1\n",
    "    chances = 2\n",
    "    correct_answer = False"
   ]
  },
  {
   "cell_type": "code",
   "execution_count": 79,
   "id": "f5608e58-fbc6-48ee-8e93-332d9e60828a",
   "metadata": {},
   "outputs": [
    {
     "name": "stdout",
     "output_type": "stream",
     "text": [
      "{'age': 56}\n"
     ]
    }
   ],
   "source": [
    "dict1 = {'age':34}\n",
    "dict1['age'] = 56\n",
    "print(dict1)"
   ]
  },
  {
   "cell_type": "code",
   "execution_count": 81,
   "id": "9b65df42-ff42-4f51-a406-ceb7d854aae0",
   "metadata": {},
   "outputs": [],
   "source": [
    "#Printing child dict using parent\n",
    "child1 = {'id': 1, 'name': 'Prachi'}\n",
    "parent = {'child1': child1}\n",
    "print(parent)"
   ]
  },
  {
   "cell_type": "code",
   "execution_count": 82,
   "id": "60ad65ea-9488-42d9-aaed-ffe8f20a32aa",
   "metadata": {},
   "outputs": [
    {
     "name": "stdout",
     "output_type": "stream",
     "text": [
      "{'child1': {'id': 1, 'name': 'Prachi'}}\n"
     ]
    }
   ],
   "source": [
    "print(parent)"
   ]
  },
  {
   "cell_type": "code",
   "execution_count": 83,
   "id": "99d5369d-1008-4fb3-a6e4-3e63c5c84d71",
   "metadata": {},
   "outputs": [
    {
     "name": "stdout",
     "output_type": "stream",
     "text": [
      "key : id value  1\n",
      "key : name value  prachi\n",
      "key : designation value  trainer\n"
     ]
    }
   ],
   "source": [
    "dict1 = {'id': 1, 'name': 'prachi', 'designation':'trainer'}\n",
    "\n",
    "for i, j in dict1.items():\n",
    "    print('key :', i, 'value ', j)"
   ]
  },
  {
   "cell_type": "code",
   "execution_count": 84,
   "id": "b912a2e1-4d9f-429d-86b0-8deb1f4689f3",
   "metadata": {},
   "outputs": [
    {
     "name": "stdout",
     "output_type": "stream",
     "text": [
      "{'id': 1, 'name': 'prachi', 'designation': 'trainer', 'age': 30}\n"
     ]
    }
   ],
   "source": [
    "dict2 = {'age':30}\n",
    "dict1.update(dict2)\n",
    "print(dict1)"
   ]
  },
  {
   "cell_type": "code",
   "execution_count": null,
   "id": "4bf5f6a6-f842-49cd-8ad2-58c60f9a3e68",
   "metadata": {},
   "outputs": [],
   "source": [
    "c1 = {'id': 1, 'name': 'prachi', 'designation':'trainer'}\n",
    "c2 = {'id': 2, 'name': 'jaya', 'designation':'trainer'}\n",
    "pd = {'child1'}"
   ]
  },
  {
   "cell_type": "code",
   "execution_count": 1,
   "id": "bed2ac75-b86d-4435-9fc1-ee325f3ec43b",
   "metadata": {},
   "outputs": [
    {
     "name": "stdout",
     "output_type": "stream",
     "text": [
      "[2, 4, 1]\n"
     ]
    }
   ],
   "source": [
    "\"\"\"\n",
    "list1 = [(1,2,3), (3,4,6), (2,1,3)]\n",
    "sort using 2nd ele, 2 4 1\n",
    "list1_sorted = [(2,1,3), (1,2,3), (3,4,6)]\n",
    "\"\"\"\n",
    "list1 = [(1,2,3), (3,4,6), (2,1,3)]\n",
    "list2 = list()\n",
    "\n",
    "sort_pos_index = 1\n",
    "sort_pos_index_vals = list()\n",
    "\n",
    "# saving the mid ele of each tuple in `sort_pos_index_vals`\n",
    "for list1_index in range(0, len(list1)):\n",
    "    sort_pos_index_vals.append(list1[list1_index][sort_pos_index])\n",
    "\n",
    "# Sorting `sort_pos_index_vals` in asc\n",
    "for num in sort_pos_index_vals:\n",
    "    \n",
    "    \n",
    "\n",
    "for num in sort_pos_index_vals:\n",
    "\n",
    "    minimum_of_nums = \n",
    "\n",
    "    \n",
    "    first_min = min(sort_pos_index_vals)\n",
    "    second_min = min(sort_pos_index_vals)\n",
    "    third_min = sort_pos_index_vals\n",
    "    \n",
    "    \n",
    "    if list1[0][1] == num:\n",
    "        list2.append(list1[0])\n",
    "    \n",
    "    if list1[1][1] == num:\n",
    "        list2.append(list1[1])\n",
    "        \n",
    "    if list1[2][1] == num:\n",
    "        list2.append(list1[2])\n",
    "\n",
    "print(list2)"
   ]
  },
  {
   "cell_type": "code",
   "execution_count": null,
   "id": "a908a0a8",
   "metadata": {},
   "outputs": [],
   "source": []
  }
 ],
 "metadata": {
  "kernelspec": {
   "display_name": "Python 3 (ipykernel)",
   "language": "python",
   "name": "python3"
  },
  "language_info": {
   "codemirror_mode": {
    "name": "ipython",
    "version": 3
   },
   "file_extension": ".py",
   "mimetype": "text/x-python",
   "name": "python",
   "nbconvert_exporter": "python",
   "pygments_lexer": "ipython3",
   "version": "3.10.13"
  }
 },
 "nbformat": 4,
 "nbformat_minor": 5
}
