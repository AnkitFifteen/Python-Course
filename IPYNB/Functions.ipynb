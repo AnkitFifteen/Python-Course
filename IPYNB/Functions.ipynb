{
 "cells": [
  {
   "cell_type": "code",
   "execution_count": 2,
   "metadata": {},
   "outputs": [
    {
     "name": "stdout",
     "output_type": "stream",
     "text": [
      "720\n"
     ]
    }
   ],
   "source": [
    "#Recursive function\n",
    "def fact(n):\n",
    "    if n == 1:\n",
    "        return 1\n",
    "    else:\n",
    "        return n * fact(n - 1)\n",
    "    \n",
    "print(fact(6))"
   ]
  },
  {
   "cell_type": "code",
   "execution_count": 5,
   "metadata": {},
   "outputs": [
    {
     "name": "stdout",
     "output_type": "stream",
     "text": [
      "[0, 1]\n"
     ]
    }
   ],
   "source": [
    "'''\n",
    "Fibonacci series using recursion\n",
    "ex. 0 1 1 2 3 5 8 13 \n",
    "\n",
    "fib[length - 1] + fib[length]\n",
    "\n",
    "'''\n",
    "\n",
    "fib = [0,1]\n",
    "def fibonacci(length):\n",
    "    if \n",
    "    return print(fibonacci(length - 1))\n",
    "\n",
    "\n",
    "\n",
    "\n",
    "    if length < 1:\n",
    "        print(\"Invalid length.\")\n",
    "    elif length == 1:\n",
    "        print(fib[0:1])\n",
    "    elif length == 2:\n",
    "        print(fib[0:2])\n",
    "    else:\n",
    "        print()\n",
    "\n",
    "fibonacci(3)\n"
   ]
  },
  {
   "cell_type": "code",
   "execution_count": 20,
   "metadata": {},
   "outputs": [
    {
     "data": {
      "text/plain": [
       "[0, 1, 1]"
      ]
     },
     "execution_count": 20,
     "metadata": {},
     "output_type": "execute_result"
    }
   ],
   "source": [
    "fib = [0,1]\n",
    "\n",
    "\n",
    "\n"
   ]
  },
  {
   "cell_type": "code",
   "execution_count": 26,
   "metadata": {},
   "outputs": [
    {
     "data": {
      "text/plain": [
       "[0, 1, 1, 2, 3, 5, 8, 13, 21]"
      ]
     },
     "execution_count": 26,
     "metadata": {},
     "output_type": "execute_result"
    }
   ],
   "source": [
    "fib.append(fib[len(fib) - 2] + fib[len(fib) - 1])\n",
    "fib\n",
    "'''\n",
    "9\n",
    "8\n",
    "7\n",
    "6\n",
    "5\n",
    "4\n",
    "3\n",
    "2 -> print\n",
    "1 -> print(fib) -> final list\n",
    "'''\n"
   ]
  },
  {
   "cell_type": "code",
   "execution_count": 31,
   "metadata": {},
   "outputs": [
    {
     "name": "stdout",
     "output_type": "stream",
     "text": [
      "[0, 1]\n",
      "None\n",
      "None\n",
      "None\n",
      "None\n",
      "None\n",
      "None\n",
      "None\n"
     ]
    }
   ],
   "source": [
    "fib = [0,1]\n",
    "\n",
    "def fibonacci(length):\n",
    "    if length == 2:\n",
    "        print(fib)\n",
    "    else:\n",
    "        return print(fibonacci(length - 1))\n",
    "\n",
    "fibonacci(9)"
   ]
  },
  {
   "cell_type": "code",
   "execution_count": null,
   "metadata": {},
   "outputs": [],
   "source": [
    "'''\n",
    "find the missing number\n",
    "2 4 6 10 12\n",
    "'''\n",
    "\n",
    "number = [2,4,6,10,12]\n",
    "\n",
    "def logic_1(number):\n",
    "    checker_list = list()\n",
    "    checker_list.append(number[0])\n",
    "    \n",
    "    next_diff = number[1] - number[0]\n",
    "    if number[2] - number[1] == next_diff:\n",
    "        for index in range (0, len(number)):\n",
    "            checker_list.append(checker_list[index] + next_diff)\n",
    "\n",
    "    for element in checker_list:\n",
    "        if element not in number:\n",
    "            print(\"Missing from logic 1:\", element)\n",
    "            return element\n",
    "\n",
    "logic_1(number)"
   ]
  }
 ],
 "metadata": {
  "kernelspec": {
   "display_name": "Python 3",
   "language": "python",
   "name": "python3"
  },
  "language_info": {
   "codemirror_mode": {
    "name": "ipython",
    "version": 3
   },
   "file_extension": ".py",
   "mimetype": "text/x-python",
   "name": "python",
   "nbconvert_exporter": "python",
   "pygments_lexer": "ipython3",
   "version": "3.10.13"
  }
 },
 "nbformat": 4,
 "nbformat_minor": 2
}
