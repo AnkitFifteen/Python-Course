{
 "cells": [
  {
   "cell_type": "code",
   "execution_count": 62,
   "metadata": {},
   "outputs": [
    {
     "ename": "TypeError",
     "evalue": "'str' object does not support item assignment",
     "output_type": "error",
     "traceback": [
      "\u001b[0;31m---------------------------------------------------------------------------\u001b[0m",
      "\u001b[0;31mTypeError\u001b[0m                                 Traceback (most recent call last)",
      "Cell \u001b[0;32mIn[62], line 57\u001b[0m\n\u001b[1;32m     54\u001b[0m         \u001b[38;5;28mprint\u001b[39m(CarRentalSystem\u001b[38;5;241m.\u001b[39mCars)\n\u001b[1;32m     56\u001b[0m System \u001b[38;5;241m=\u001b[39m CarRentalSystem()\n\u001b[0;32m---> 57\u001b[0m \u001b[43mSystem\u001b[49m\u001b[38;5;241;43m.\u001b[39;49m\u001b[43mAddCar\u001b[49m\u001b[43m(\u001b[49m\u001b[38;5;124;43m\"\u001b[39;49m\u001b[38;5;124;43mJeep\u001b[39;49m\u001b[38;5;124;43m\"\u001b[39;49m\u001b[43m,\u001b[49m\u001b[43m \u001b[49m\u001b[38;5;124;43m\"\u001b[39;49m\u001b[38;5;124;43mM105\u001b[39;49m\u001b[38;5;124;43m\"\u001b[39;49m\u001b[43m,\u001b[49m\u001b[43m \u001b[49m\u001b[38;5;241;43m15\u001b[39;49m\u001b[43m,\u001b[49m\u001b[43m \u001b[49m\u001b[38;5;124;43m\"\u001b[39;49m\u001b[38;5;124;43mAvailable\u001b[39;49m\u001b[38;5;124;43m\"\u001b[39;49m\u001b[43m)\u001b[49m\n\u001b[1;32m     58\u001b[0m System\u001b[38;5;241m.\u001b[39mWhichCar()\n\u001b[1;32m     59\u001b[0m System\u001b[38;5;241m.\u001b[39mDisplayCars()\n",
      "Cell \u001b[0;32mIn[62], line 28\u001b[0m, in \u001b[0;36mCarRentalSystem.AddCar\u001b[0;34m(self, CarName, Model, PerHourRent, Status)\u001b[0m\n\u001b[1;32m     27\u001b[0m \u001b[38;5;28;01mdef\u001b[39;00m \u001b[38;5;21mAddCar\u001b[39m(\u001b[38;5;28mself\u001b[39m, CarName, Model, PerHourRent \u001b[38;5;241m=\u001b[39m \u001b[38;5;241m10\u001b[39m, Status \u001b[38;5;241m=\u001b[39m \u001b[38;5;124m\"\u001b[39m\u001b[38;5;124mUnavailable\u001b[39m\u001b[38;5;124m\"\u001b[39m):\n\u001b[0;32m---> 28\u001b[0m     \u001b[43mCarRentalSystem\u001b[49m\u001b[38;5;241;43m.\u001b[39;49m\u001b[43mCars\u001b[49m\u001b[43m[\u001b[49m\u001b[43mCarName\u001b[49m\u001b[43m]\u001b[49m \u001b[38;5;241m=\u001b[39m (Model, PerHourRent, Status)\n\u001b[1;32m     29\u001b[0m     CarRentalSystem\u001b[38;5;241m.\u001b[39mSaveToCarsFile(\u001b[38;5;28mself\u001b[39m)\n",
      "\u001b[0;31mTypeError\u001b[0m: 'str' object does not support item assignment"
     ]
    }
   ],
   "source": [
    "'''\n",
    "Create a car rental system using concepts of sequence data typ, oop, function and modules.\n",
    "\n",
    "1) Create a collection of CAR which has following information:\n",
    "CAR NAME, MODEL, PER HOUR RENT, STATUS - AVAILABLE OR NOT\n",
    "\n",
    "2) Design a system which will ask user about the car that he wants on rent. Once the user selects\n",
    "the car, change the status of car to Unavailable and calculate the total charges based on the amount\n",
    "which is supposed to be paid for per hour.\n",
    "'''\n",
    "\n",
    "class CarRentalSystem():\n",
    "    Cars = dict()\n",
    "    CarsDictFilePath = \"SurpriseTestResources/CarsDict.txt\"\n",
    "\n",
    "    def __init__(self):\n",
    "        CarRentalSystem.InitializeFromCarsFile(self)\n",
    "\n",
    "    def SaveToCarsFile(self):\n",
    "        with open(CarRentalSystem.CarsDictFilePath,'w') as data:  \n",
    "            data.write(str(CarRentalSystem.Cars))\n",
    "\n",
    "    def InitializeFromCarsFile(self):\n",
    "        with open(CarRentalSystem.CarsDictFilePath,'r') as data:  \n",
    "            CarRentalSystem.Cars = data.read()\n",
    "\n",
    "    def AddCar(self, CarName, Model, PerHourRent = 10, Status = \"Unavailable\"):\n",
    "        CarRentalSystem.Cars[CarName] = (Model, PerHourRent, Status)\n",
    "        CarRentalSystem.SaveToCarsFile(self)\n",
    "\n",
    "    def WhichCar(self):\n",
    "        CarRentalSystem.InitializeFromCarsFile(self)\n",
    "        CarRented = False\n",
    "        CarName = str(input(\"Enter name of car which you want?\"))\n",
    "\n",
    "        if CarName not in CarRentalSystem.Cars.keys():\n",
    "            print(f\"Car is not present in database.\")\n",
    "            return\n",
    "\n",
    "        CarHours = int(input(\"Enter number of hours for which you want to rent the car: \"))\n",
    "        for key, value in CarRentalSystem.Cars.items():\n",
    "            if key == CarName and value[2] == \"Available\":\n",
    "                print(f\"Total rent = Rs. {value[1] * CarHours}\")\n",
    "                CarRentalSystem.Cars[CarName] = (value[0], value[1], \"Unavailable\")\n",
    "                CarRented = True\n",
    "                break\n",
    "\n",
    "        for key, value in CarRentalSystem.Cars.items():\n",
    "            if key == CarName and value[2] == \"Unavailable\" and CarRented != True:\n",
    "                print(f\"The car is unavailable.\")\n",
    "                break\n",
    "            \n",
    "    def DisplayCars(self):\n",
    "        print(CarRentalSystem.Cars)\n",
    "\n",
    "System = CarRentalSystem()\n",
    "System.AddCar(\"Jeep\", \"M105\", 15, \"Available\")\n",
    "System.WhichCar()\n",
    "System.DisplayCars()\n",
    "\n",
    "\n",
    "\n",
    "                \n",
    "\n",
    "\n"
   ]
  },
  {
   "cell_type": "code",
   "execution_count": 59,
   "metadata": {},
   "outputs": [
    {
     "name": "stdout",
     "output_type": "stream",
     "text": [
      "{'Toyota': ('Troy', 25, 'Available'), 'BMW': ('1 Series', 15, 'Available'), 'FIAT': ('124 Spider', 20, 'Available'), 'GMC': ('1500 Club Coupe', 20, 'Available')}\n"
     ]
    }
   ],
   "source": [
    "Cars = {'Toyota': ('Troy', 25, 'Available'),'BMW': ('1 Series', 15, 'Available'), 'FIAT': ('124 Spider', 20, 'Available'), 'GMC': ('1500 Club Coupe', 20, 'Available')}\n",
    "CarsDictFilePath = \"SurpriseTestResources/CarsDict.txt\"\n",
    "\n",
    "with open(CarsDictFilePath,'w') as data:  \n",
    "      data.write(str(Cars))\n",
    "\n",
    "with open(CarsDictFilePath,'r') as data:  \n",
    "      Cars = data.read()\n",
    "\n",
    "print(Cars)\n"
   ]
  },
  {
   "cell_type": "code",
   "execution_count": 60,
   "metadata": {},
   "outputs": [
    {
     "name": "stdout",
     "output_type": "stream",
     "text": [
      "{'Toyota': ('Troy', 25, 'Available'), 'BMW': ('1 Series', 15, 'Available'), 'FIAT': ('124 Spider', 20, 'Available'), 'GMC': ('1500 Club Coupe', 20, 'Available'), 'Jeep': ('M105', 15, 'Available')}\n"
     ]
    }
   ],
   "source": [
    "with open(CarsDictFilePath,'r') as data:  \n",
    "      Cars = data.read()\n",
    "\n",
    "print(Cars)"
   ]
  }
 ],
 "metadata": {
  "kernelspec": {
   "display_name": "Python 3",
   "language": "python",
   "name": "python3"
  },
  "language_info": {
   "codemirror_mode": {
    "name": "ipython",
    "version": 3
   },
   "file_extension": ".py",
   "mimetype": "text/x-python",
   "name": "python",
   "nbconvert_exporter": "python",
   "pygments_lexer": "ipython3",
   "version": "3.10.13"
  }
 },
 "nbformat": 4,
 "nbformat_minor": 2
}
