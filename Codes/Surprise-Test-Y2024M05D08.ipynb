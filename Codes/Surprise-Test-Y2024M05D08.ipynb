{
 "cells": [
  {
   "cell_type": "code",
   "execution_count": 29,
   "metadata": {},
   "outputs": [
    {
     "name": "stdout",
     "output_type": "stream",
     "text": [
      "Total rent = Rs. 160\n",
      "{'Toyota': ('Troy', 25, 'Available'), 'BMW': ('1 Series', 15, 'Available'), 'FIAT': ('124 Spider', 20, 'Unavailable'), 'GMC': ('1500 Club Coupe', 20, 'Available'), 'Jeep': ('M105', 15, 'Available')}\n"
     ]
    }
   ],
   "source": [
    "'''\n",
    "Create a car rental system using concepts of sequence data typ, oop, function and modules.\n",
    "\n",
    "1) Create a collection of CAR which has following information:\n",
    "CAR NAME, MODEL, PER HOUR RENT, STATUS - AVAILABLE OR NOT\n",
    "\n",
    "2) Design a system which will ask user about the car that he wants on rent. Once the user selects\n",
    "the car, change the status of car to Unavailable and calculate the total charges based on the amount\n",
    "which is supposed to be paid for per hour.\n",
    "'''\n",
    "\n",
    "class CarRentalSystem():\n",
    "    Cars = {'Toyota': ('Troy', 25, 'Available'),'BMW': ('1 Series', 15, 'Available'), 'FIAT': ('124 Spider', 20, 'Available'), 'GMC': ('1500 Club Coupe', 20, 'Available')}\n",
    "\n",
    "    def AddCar(self, CarName, Model, PerHourRent = 10, Status = \"Unavailable\"):\n",
    "        CarRentalSystem.Cars[CarName] = (Model, PerHourRent, Status)\n",
    "\n",
    "    def WhichCar(self):\n",
    "        CarRented = False\n",
    "        CarName = str(input(\"Enter name of car which you want?\"))\n",
    "\n",
    "        if CarName not in CarRentalSystem.Cars.keys():\n",
    "            print(f\"Car is not present in database.\")\n",
    "            return\n",
    "\n",
    "        CarHours = int(input(\"Enter number of hours for which you want to rent the car: \"))\n",
    "        for key, value in CarRentalSystem.Cars.items():\n",
    "            if key == CarName and value[2] == \"Available\":\n",
    "                print(f\"Total rent = Rs. {value[1] * CarHours}\")\n",
    "                CarRentalSystem.Cars[CarName] = (value[0], value[1], \"Unavailable\")\n",
    "                CarRented = True\n",
    "                break\n",
    "\n",
    "        for key, value in CarRentalSystem.Cars.items():\n",
    "            if key == CarName and value[2] == \"Unavailable\" and CarRented != True:\n",
    "                print(f\"The car is unavailable.\")\n",
    "                break\n",
    "            \n",
    "    def DisplayCars(self):\n",
    "        print(CarRentalSystem.Cars)\n",
    "\n",
    "System = CarRentalSystem()\n",
    "System.AddCar(\"Jeep\", \"M105\", 15, \"Available\")\n",
    "System.WhichCar()\n",
    "System.DisplayCars()\n",
    "\n",
    "\n",
    "\n",
    "                \n",
    "\n",
    "\n"
   ]
  },
  {
   "cell_type": "code",
   "execution_count": 27,
   "metadata": {},
   "outputs": [
    {
     "data": {
      "text/plain": [
       "161"
      ]
     },
     "execution_count": 27,
     "metadata": {},
     "output_type": "execute_result"
    }
   ],
   "source": [
    "Cars = {'Toyota': ('Troy', 25, 'Available'),'BMW': ('1 Series', 15, 'Available'), 'FIAT': ('124 Spider', 20, 'Available'), 'GMC': ('1500 Club Coupe', 20, 'Available')}\n",
    "CarsDictFilePath = \"SurpriseTestResources/CarsDict.txt\"\n",
    "CarsDictFile = open(CarsDictFilePath, \"w\")\n",
    "CarsDictFile.write()\n",
    "\n"
   ]
  },
  {
   "cell_type": "code",
   "execution_count": null,
   "metadata": {},
   "outputs": [],
   "source": []
  }
 ],
 "metadata": {
  "kernelspec": {
   "display_name": "Python 3",
   "language": "python",
   "name": "python3"
  },
  "language_info": {
   "codemirror_mode": {
    "name": "ipython",
    "version": 3
   },
   "file_extension": ".py",
   "mimetype": "text/x-python",
   "name": "python",
   "nbconvert_exporter": "python",
   "pygments_lexer": "ipython3",
   "version": "3.10.13"
  }
 },
 "nbformat": 4,
 "nbformat_minor": 2
}
