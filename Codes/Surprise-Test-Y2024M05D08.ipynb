{
 "cells": [
  {
   "cell_type": "code",
   "execution_count": null,
   "metadata": {},
   "outputs": [],
   "source": [
    "'''\n",
    "Create a car rental system using concepts of sequence data typ, oop, function and modules.\n",
    "\n",
    "1) Create a collection of CAR which has following information:\n",
    "CAR NAME, MODEL, PER HOUR RENT, STATUS - AVAILABLE OR NOT\n",
    "\n",
    "2) Design a system which will ask user about the car that he wantson rent. Once the user selects\n",
    "the car, change the status of car to Unavailable and calculate the total charges based on the amount\n",
    "which is supposed to be paid for per hour.\n",
    "'''"
   ]
  }
 ],
 "metadata": {
  "language_info": {
   "name": "python"
  }
 },
 "nbformat": 4,
 "nbformat_minor": 2
}
