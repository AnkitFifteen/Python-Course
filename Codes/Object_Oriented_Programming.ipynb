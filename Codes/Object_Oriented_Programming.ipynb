{
 "cells": [
  {
   "cell_type": "code",
   "execution_count": null,
   "metadata": {},
   "outputs": [],
   "source": [
    "'''\n",
    "Object Oriented Programming\n",
    "1. object\n",
    "2. class(collection of similar type of objects, it is blueprint of an object)\n",
    "3. encapsulation\n",
    "4. inheritance\n",
    "5. polymorphism\n",
    "6. abstraction\n",
    "\n",
    "____________________\n",
    "|class: student    |           \n",
    "|------------------|\n",
    "|id                |\n",
    "|name              |\n",
    "|course            |  <---- attributes\n",
    "|address           |\n",
    "|email             |\n",
    "|------------------|\n",
    "|study             |\n",
    "|assignment        |  <---- functions\n",
    "|assessment        |\n",
    "|__________________|\n",
    "\n",
    "class student:\n",
    "    id = 0\n",
    "    name = \"unknown\"\n",
    "    def display(self):          # self can be substituted with 'a'\n",
    "        print(self.id)\n",
    "        print(self.name)\n",
    "\n",
    "s1 = student()\n",
    "s1.id = 1\n",
    "s1.name = \"Prachi\"\n",
    "print(s1.id)\n",
    "print(s1.name)\n",
    "'''"
   ]
  },
  {
   "cell_type": "code",
   "execution_count": 25,
   "metadata": {},
   "outputs": [
    {
     "name": "stdout",
     "output_type": "stream",
     "text": [
      "#1: \n",
      "id 15 name unknown\n",
      "#2: \n",
      "1\n",
      "#3: \n",
      "id 15 name Prachi\n",
      "#4: \n",
      "id 15 name Prachi\n",
      "#5: \n",
      "using class id 3 name unknown\n",
      "3\n",
      "15\n"
     ]
    }
   ],
   "source": [
    "#Program #OOP.1 Ver 1\n",
    "class student:\n",
    "    id = 0\n",
    "    name = \"unknown\"\n",
    "\n",
    "    def display(self):\n",
    "        self.id = 15\n",
    "        print(f\"id {self.id} name {self.name}\")\n",
    "\n",
    "    def display1():\n",
    "        student.id = 3\n",
    "        print(f\"using class id {student.id} name {student.name}\")\n",
    "\n",
    "s1,s2 = student(), student()\n",
    "s1.id = 1\n",
    "s1.name = \"Prachi\"\n",
    "\n",
    "s2.id = 20\n",
    "print(\"#1: \")\n",
    "s2.display()\n",
    "\n",
    "print(\"#2: \")\n",
    "print(s1.id)\n",
    "\n",
    "print(\"#3: \")\n",
    "s1.display()\n",
    "\n",
    "print(\"#4: \")\n",
    "student.display(s1)\n",
    "\n",
    "print(\"#5: \")\n",
    "student.display1()\n",
    "\n",
    "print(student.id)\n",
    "print(s1.id)"
   ]
  },
  {
   "cell_type": "code",
   "execution_count": 1,
   "metadata": {},
   "outputs": [
    {
     "name": "stdout",
     "output_type": "stream",
     "text": [
      "ID: 1 Name: tim\n",
      "ID: 2 Name: yim\n",
      "ID: 3 Name: vim\n",
      "ID: 4 Name: poi\n",
      "ID: 5 Name: dfe\n"
     ]
    }
   ],
   "source": [
    "'''\n",
    "Program #OOP.2 Ver 1\n",
    "Create Student class and 5 objects of that class\n",
    "Ask for id, name for each object\n",
    "Display all objects\n",
    "'''\n",
    "\n",
    "class Student:\n",
    "    id = 0\n",
    "    name = \"default\"\n",
    "\n",
    "    def display(self):\n",
    "        print(\"ID:\", self.id, \"Name:\", self.name)\n",
    "\n",
    "StudentObjects = list()\n",
    "\n",
    "for i in range(0,5):\n",
    "    ObjectRef = \"s\" + str(i)\n",
    "    ObjectRef = Student()\n",
    "    ObjectRef.id = int(input(f\"Enter ID for object {i + 1} : \"))\n",
    "    ObjectRef.name = str(input(f\"Enter name for object {i + 1} : \"))\n",
    "    StudentObjects.append(ObjectRef)\n",
    "\n",
    "for StudentObject in StudentObjects:\n",
    "    StudentObject.display()"
   ]
  },
  {
   "cell_type": "code",
   "execution_count": 9,
   "metadata": {},
   "outputs": [
    {
     "name": "stdout",
     "output_type": "stream",
     "text": [
      "ID:  78\n",
      "78\n",
      "ID:  1\n",
      "No. of students 2\n",
      "For s2 object 1\n",
      "90\n"
     ]
    }
   ],
   "source": [
    "'''\n",
    "Program #OOP.3 Ver 1\n",
    "class attribute\n",
    "1. within class\n",
    "2. can be accessed by class and object\n",
    "3. value can be changed inside and outside instance/class method\n",
    "\n",
    "instance attribute\n",
    "1. within constructor\n",
    "2. object access\n",
    "3. value can be inside and outside the instance method only\n",
    "'''\n",
    "\n",
    "class Student:\n",
    "    #class attributes\n",
    "    noofstudent = 0\n",
    "    def __init__(self):\n",
    "        #instance attributes\n",
    "        self.id = 1\n",
    "        self.name = \"unknown\"\n",
    "\n",
    "        #class attribute\n",
    "        Student.noofstudent = Student.noofstudent + 1\n",
    "\n",
    "        #instance specific value of class attribute\n",
    "        self.noofstudent = 90\n",
    "    def display(self):\n",
    "        print(\"ID: \", self.id)\n",
    "\n",
    "s1 = Student()\n",
    "s1.id = 78\n",
    "s1.display()\n",
    "print(s1.id)\n",
    "\n",
    "s2 = Student()\n",
    "s2.display()\n",
    "\n",
    "# print(student.id) will create an error since it is an instance attribute and it cannot be accessed by class\n",
    "print(\"No. of students\", Student.noofstudent)\n",
    "print(\"For s2 object\", s2.id)\n",
    "\n",
    "#instance specific class attribute value\n",
    "print(s1.noofstudent)"
   ]
  },
  {
   "cell_type": "code",
   "execution_count": 2,
   "metadata": {},
   "outputs": [
    {
     "name": "stdout",
     "output_type": "stream",
     "text": [
      "1\n",
      "1\n",
      "2\n",
      "3\n",
      "4\n"
     ]
    }
   ],
   "source": [
    "'''\n",
    "Program #OOP.4 Ver 1\n",
    "Parameterized constructor\n",
    "'''\n",
    "\n",
    "class student:\n",
    "    def __init__(self, id1, name):\n",
    "        self.id = id1\n",
    "        self.name = name\n",
    "\n",
    "    def display(self):\n",
    "        print(self.id)\n",
    "\n",
    "s1 = student(1, \"Prachi\")\n",
    "s2 = student(2, \"Jaya\")\n",
    "s3 = student(3, \"Himanshi\")\n",
    "s4 = student(4, \"Navin\")\n",
    "\n",
    "s1.display()\n",
    "print(s1.id)\n",
    "print(s2.id)\n",
    "print(s3.id)\n",
    "print(s4.id)"
   ]
  },
  {
   "cell_type": "code",
   "execution_count": 30,
   "metadata": {},
   "outputs": [
    {
     "name": "stdout",
     "output_type": "stream",
     "text": [
      "{3: ('afgar', 85, 2200), 5: ('jshf', 85, 2001)}\n",
      "{5: ('jshf', 85, 2001)}\n"
     ]
    }
   ],
   "source": [
    "'''\n",
    "Program #OOP.5 Ver 1\n",
    "Done inside the class\n",
    "Create a python program which has class named book, and its attributes id, name, price, year of publication, etc.\n",
    "Create 2  methods which allow you to add or remove books object from collection.\n",
    "\n",
    "method #1 add data to collection\n",
    "method #2 remove data from collection\n",
    "'''\n",
    "\n",
    "class Books:\n",
    "    Books_Dict = {}\n",
    "    \n",
    "    def Add(self, IDFromCall, NameFromCall, PriceFromCall, YearOfPublicationFromCall):\n",
    "        self.ID = IDFromCall\n",
    "        self.Name = NameFromCall\n",
    "        self.Price = PriceFromCall\n",
    "        self.YearOfPublication = YearOfPublicationFromCall\n",
    "        Books.Books_Dict[IDFromCall] = (NameFromCall, PriceFromCall, YearOfPublicationFromCall)\n",
    "\n",
    "    def Remove(self, ID):\n",
    "        Books.Books_Dict.pop(ID)\n",
    "\n",
    "    def Display(self):\n",
    "        print(Books.Books_Dict)\n",
    "\n",
    "b1 = Books()\n",
    "b1.Add(3, \"afgar\", 85, 2200)\n",
    "b1.Add(5, \"jshf\", 85, 2001)\n",
    "b1.Display()\n",
    "b1.Remove(3)\n",
    "b1.Display()"
   ]
  },
  {
   "cell_type": "code",
   "execution_count": 32,
   "metadata": {},
   "outputs": [
    {
     "name": "stdout",
     "output_type": "stream",
     "text": [
      "java\n"
     ]
    }
   ],
   "source": [
    "'''\n",
    "Program #OOP.5 \n",
    "Done outside the class\n",
    "'''\n",
    "listbook = list()\n",
    "\n",
    "def addbook(bookobj):\n",
    "    listbook.append(bookobj)\n",
    "\n",
    "class book:\n",
    "    def __init__(self, id1, name, price):\n",
    "        self.id = id1\n",
    "        self.name = name\n",
    "        self.price = price\n",
    "\n",
    "b1 = book(1, \"java\", 2000)\n",
    "b2 = book(2, \"prachi\", 3000)\n",
    "\n",
    "addbook(b1)\n",
    "\n",
    "for i in listbook:\n",
    "    print(i.name)"
   ]
  },
  {
   "cell_type": "code",
   "execution_count": 36,
   "metadata": {},
   "outputs": [],
   "source": [
    "'''\n",
    "Program #OOP.5 Ver. 2\n",
    "Done inside the class\n",
    "'''\n",
    "\n",
    "class book:\n",
    "    #class attribute\n",
    "    listbook = list()\n",
    "\n",
    "    #class method\n",
    "    def addbook(bookobj):\n",
    "        book.listbook.append(bookobj)\n",
    "\n",
    "    def removebook(bookobj):\n",
    "        book.listbook.remove(bookobj)\n",
    "\n",
    "    def display():\n",
    "        for i in listbook:\n",
    "            print(i.name)\n",
    "\n",
    "    def __init__(self, id1, name, price):\n",
    "        self.id = id1\n",
    "        self.name = name\n",
    "        self.price = price\n",
    "\n",
    "\n",
    "b1 = book(1, \"java\", 2000)\n",
    "b2 = book(2, \"prachi\", 3000)\n",
    "\n",
    "book.addbook(b1)\n",
    "book.removebook(b1)\n",
    "\n",
    "for i in book.listbook:\n",
    "    print(\"after remove\", i)"
   ]
  },
  {
   "cell_type": "code",
   "execution_count": 6,
   "metadata": {
    "metadata": {}
   },
   "outputs": [
    {
     "name": "stdout",
     "output_type": "stream",
     "text": [
      " Name of person jaya and ID of person 3\n",
      " Designation of employee trainer and department of employee it\n"
     ]
    }
   ],
   "source": [
    "\"\"\"\n",
    "Program #OOP.6 Ver. 1\n",
    "Single Inheritance\n",
    "ParentClass --> ChildClass\n",
    "\"\"\"\n",
    "\n",
    "#Parent Class\n",
    "class Person:\n",
    "    def __init__(self, id1, name):\n",
    "        self.id = id1\n",
    "        self.name = name\n",
    "\n",
    "    def display(self):\n",
    "        print(f\" Name of person {self.name} and ID of person {self.id}\")\n",
    "\n",
    "#Child Class\n",
    "class Employee(Person):\n",
    "    def __init__(self, id1, name, des, dep):\n",
    "        Person.__init__(self, id1, name)\n",
    "        self.designation = des\n",
    "        self.dep = dep\n",
    "\n",
    "    def display(self):\n",
    "        Person.display(self)\n",
    "        # print(self.designation)\n",
    "        # print(self.dep)\n",
    "        print(f\" Designation of employee {self.designation} and department of employee {self.dep}\")\n",
    "\n",
    "e0 = Employee(3, \"jaya\", \"trainer\", \"it\")\n",
    "e0.display()\n",
    "\n",
    "# e1 = Employee()\n",
    "# e1.display()\n",
    "\n"
   ]
  },
  {
   "cell_type": "code",
   "execution_count": 10,
   "metadata": {
    "metadata": {}
   },
   "outputs": [
    {
     "name": "stdout",
     "output_type": "stream",
     "text": [
      "Rishi Kapoor\n",
      "Ranbir Rishi Kapoor\n"
     ]
    }
   ],
   "source": [
    "'''\n",
    "Multi Level Inheritance\n",
    "GrandParentClass --> ParentClass --> ChildClass\n",
    "'''\n",
    "\n",
    "class GrandParent:\n",
    "    def __init__(self, GrandName):\n",
    "        self.GrandName = GrandName\n",
    "\n",
    "class Parent(GrandParent):\n",
    "    def __init__(self, ParentName, GrandName):\n",
    "        GrandParent.__init__(self, GrandName)\n",
    "        self.ParentName = ParentName\n",
    "        print(f\"{self.ParentName} {self.GrandName}\")\n",
    "\n",
    "class Child(Parent):\n",
    "    def __init__(self, ParentName, GrandName, ChildName):\n",
    "        Parent.__init__(self, ParentName, GrandName)\n",
    "        self.ChildName = ChildName\n",
    "\n",
    "    def Display(self):\n",
    "        print(f\"{self.ChildName} {self.ParentName} {self.GrandName}\")\n",
    "\n",
    "C1 = Child(\"Rishi\", \"Kapoor\", \"Ranbir\")\n",
    "C1.Display()\n",
    "        "
   ]
  },
  {
   "cell_type": "code",
   "execution_count": null,
   "metadata": {},
   "outputs": [],
   "source": [
    "'''\n",
    "Multiple Inheritance\n",
    "ParentClass1 --> ChildClass1\n",
    "ParentClass2 --> ChildClass1\n",
    "'''\n",
    "\n",
    "class P1:\n",
    "    def __init__(self):\n",
    "        self.parent1 = \"unknown p1\"\n",
    "\n",
    "class P2:\n",
    "    def __init__(self):\n",
    "        self.parent2 = \"unknown p2\"\n",
    "\n",
    "class child(P1, P2):\n",
    "    def __init__(self):\n",
    "        P1.__init__(self)\n",
    "        P2.__init__(self)\n"
   ]
  },
  {
   "cell_type": "code",
   "execution_count": null,
   "metadata": {},
   "outputs": [],
   "source": [
    "'''\n",
    "Hierarchial Inheritance\n",
    "ParentClass1 --> ChildClass1\n",
    "ParentClass2 --> ChildClass2\n",
    "'''"
   ]
  },
  {
   "cell_type": "code",
   "execution_count": null,
   "metadata": {},
   "outputs": [],
   "source": [
    "'''\n",
    "Hybrid Inheritance\n",
    "'''\n"
   ]
  },
  {
   "cell_type": "code",
   "execution_count": 18,
   "metadata": {},
   "outputs": [
    {
     "name": "stdout",
     "output_type": "stream",
     "text": [
      "C1\n",
      "C3\n",
      "class C3\n",
      "class C3\n"
     ]
    }
   ],
   "source": [
    "'''\n",
    "Diamond Problem [Multiple Inheritance]\n",
    "ParentClass1---> ChildClass1    ----> ChildClass3\n",
    "            `--> ChildClass2 -->^\n",
    "'''\n",
    "\n",
    "class P1:\n",
    "    def __init__(self):\n",
    "        self.name = \"class P1\"\n",
    "        print(\"P1\")\n",
    "\n",
    "class C1(P1):\n",
    "    def __init__(self):\n",
    "        self.name = \"class C1\"\n",
    "        print(\"C1\")\n",
    "    \n",
    "    def display(self):\n",
    "        print(self.name)\n",
    "\n",
    "class C2(P1):\n",
    "    def __init__(self):\n",
    "        self.name = \"class C2\"\n",
    "        print(\"C2\")\n",
    "\n",
    "class C3(C1, C2):\n",
    "    def __init__(self):\n",
    "        C1.__init__(self)\n",
    "        self.name = \"class C3\"  #put this line above to get class C1\n",
    "        print(\"C3\")\n",
    "\n",
    "    def display(self):\n",
    "        print(self.name)\n",
    "        C1.display(self)\n",
    "\n",
    "C3Obj = C3()\n",
    "C3Obj.display()"
   ]
  },
  {
   "cell_type": "code",
   "execution_count": 19,
   "metadata": {},
   "outputs": [],
   "source": [
    "class India:\n",
    "    def __init__(self):\n",
    "        self.capital = \"Delhi\"\n",
    "        self.language = \"Hindi\"\n",
    "\n",
    "    def display(self):\n",
    "        print(self.capital)\n",
    "        print(self.language)\n",
    "\n",
    "class USA:\n",
    "    def __init__(self):\n",
    "        self.capital = \"Washington\"\n",
    "        self.language = \"English\"\n",
    "\n",
    "    def display(self):\n",
    "        print(self.language)\n",
    "        print(self.capital)\n"
   ]
  },
  {
   "cell_type": "code",
   "execution_count": 20,
   "metadata": {},
   "outputs": [
    {
     "name": "stdout",
     "output_type": "stream",
     "text": [
      "IT\n"
     ]
    }
   ],
   "source": [
    "#super keyword refers immediate parent class\n",
    "class Person:\n",
    "    def __init__(self):\n",
    "        self.name = \"unknown\"\n",
    "\n",
    "    def display(self):\n",
    "        print(self.name)\n",
    "\n",
    "class Employee(Person):\n",
    "    def __init__(self, dep, des):\n",
    "        super().__init__()            #equivalent to --> Person.__init__(self)\n",
    "        self.department = \"IT\"\n",
    "        self.designation = des\n",
    "\n",
    "    def display(self):\n",
    "        super().display()             #equivalent to --> Person.display(self)\n",
    "        print(f\" designation of emp {self.designation} and dep of emp {self.department}\")\n",
    "\n",
    "E1 = Employee()\n",
    "E1.display()\n",
    "    "
   ]
  },
  {
   "cell_type": "code",
   "execution_count": null,
   "metadata": {},
   "outputs": [],
   "source": []
  }
 ],
 "metadata": {
  "kernelspec": {
   "display_name": "Python 3",
   "language": "python",
   "name": "python3"
  },
  "language_info": {
   "codemirror_mode": {
    "name": "ipython",
    "version": 3
   },
   "file_extension": ".py",
   "mimetype": "text/x-python",
   "name": "python",
   "nbconvert_exporter": "python",
   "pygments_lexer": "ipython3",
   "version": "3.10.13"
  }
 },
 "nbformat": 4,
 "nbformat_minor": 2
}
