{
 "cells": [
  {
   "cell_type": "code",
   "execution_count": null,
   "metadata": {},
   "outputs": [],
   "source": [
    "'''\n",
    "Object Oriented Programming\n",
    "1. object\n",
    "2. class(collection of similar type of objects, it is blueprint of an object)\n",
    "3. encapsulation\n",
    "4. inheritance\n",
    "5. polymorphism\n",
    "6. abstraction\n",
    "\n",
    "____________________\n",
    "|class: student    |           \n",
    "|------------------|\n",
    "|id                |\n",
    "|name              |\n",
    "|course            |  <---- attributes\n",
    "|address           |\n",
    "|email             |\n",
    "|------------------|\n",
    "|study             |\n",
    "|assignment        |  <---- functions\n",
    "|assessment        |\n",
    "|__________________|\n",
    "\n",
    "class student:\n",
    "    id = 0\n",
    "    name = \"unknown\"\n",
    "    def display(self):          # self can be substituted with 'a'\n",
    "        print(self.id)\n",
    "        print(self.name)\n",
    "\n",
    "s1 = student()\n",
    "s1.id = 1\n",
    "s1.name = \"Prachi\"\n",
    "print(s1.id)\n",
    "print(s1.name)\n",
    "'''"
   ]
  },
  {
   "cell_type": "code",
   "execution_count": 25,
   "metadata": {},
   "outputs": [
    {
     "name": "stdout",
     "output_type": "stream",
     "text": [
      "#1: \n",
      "id 15 name unknown\n",
      "#2: \n",
      "1\n",
      "#3: \n",
      "id 15 name Prachi\n",
      "#4: \n",
      "id 15 name Prachi\n",
      "#5: \n",
      "using class id 3 name unknown\n",
      "3\n",
      "15\n"
     ]
    }
   ],
   "source": [
    "class student:\n",
    "    id = 0\n",
    "    name = \"unknown\"\n",
    "\n",
    "    def display(self):\n",
    "        self.id = 15\n",
    "        print(f\"id {self.id} name {self.name}\")\n",
    "\n",
    "    def display1():\n",
    "        student.id = 3\n",
    "        print(f\"using class id {student.id} name {student.name}\")\n",
    "\n",
    "s1,s2 = student(), student()\n",
    "s1.id = 1\n",
    "s1.name = \"Prachi\"\n",
    "\n",
    "s2.id = 20\n",
    "print(\"#1: \")\n",
    "s2.display()\n",
    "\n",
    "print(\"#2: \")\n",
    "print(s1.id)\n",
    "\n",
    "print(\"#3: \")\n",
    "s1.display()\n",
    "\n",
    "print(\"#4: \")\n",
    "student.display(s1)\n",
    "\n",
    "print(\"#5: \")\n",
    "student.display1()\n",
    "\n",
    "print(student.id)\n",
    "print(s1.id)"
   ]
  },
  {
   "cell_type": "code",
   "execution_count": 1,
   "metadata": {},
   "outputs": [
    {
     "name": "stdout",
     "output_type": "stream",
     "text": [
      "ID: 1 Name: tim\n",
      "ID: 2 Name: yim\n",
      "ID: 3 Name: vim\n",
      "ID: 4 Name: poi\n",
      "ID: 5 Name: dfe\n"
     ]
    }
   ],
   "source": [
    "'''\n",
    "Create Student class and 5 objects of that class\n",
    "Ask for id, name for each object\n",
    "Display all objects\n",
    "'''\n",
    "\n",
    "class Student:\n",
    "    id = 0\n",
    "    name = \"default\"\n",
    "\n",
    "    def display(self):\n",
    "        print(\"ID:\", self.id, \"Name:\", self.name)\n",
    "\n",
    "StudentObjects = list()\n",
    "\n",
    "for i in range(0,5):\n",
    "    ObjectRef = \"s\" + str(i)\n",
    "    ObjectRef = Student()\n",
    "    ObjectRef.id = int(input(f\"Enter ID for object {i + 1} : \"))\n",
    "    ObjectRef.name = str(input(f\"Enter name for object {i + 1} : \"))\n",
    "    StudentObjects.append(ObjectRef)\n",
    "\n",
    "for StudentObject in StudentObjects:\n",
    "    StudentObject.display()"
   ]
  },
  {
   "cell_type": "code",
   "execution_count": 9,
   "metadata": {},
   "outputs": [
    {
     "name": "stdout",
     "output_type": "stream",
     "text": [
      "ID:  78\n",
      "78\n",
      "ID:  1\n",
      "No. of students 2\n",
      "For s2 object 1\n",
      "90\n"
     ]
    }
   ],
   "source": [
    "'''\n",
    "class attribute\n",
    "1. within class\n",
    "2. can be accessed by class and object\n",
    "3. value can be changed inside and outside instance/class method\n",
    "\n",
    "instance attribute\n",
    "1. within constructor\n",
    "2. object access\n",
    "3. value can be inside and outside the instance method only\n",
    "'''\n",
    "\n",
    "class Student:\n",
    "    #class attributes\n",
    "    noofstudent = 0\n",
    "    def __init__(self):\n",
    "        #instance attributes\n",
    "        self.id = 1\n",
    "        self.name = \"unknown\"\n",
    "\n",
    "        #class attribute\n",
    "        Student.noofstudent = Student.noofstudent + 1\n",
    "\n",
    "        #instance specific value of class attribute\n",
    "        self.noofstudent = 90\n",
    "    def display(self):\n",
    "        print(\"ID: \", self.id)\n",
    "\n",
    "s1 = Student()\n",
    "s1.id = 78\n",
    "s1.display()\n",
    "print(s1.id)\n",
    "\n",
    "s2 = Student()\n",
    "s2.display()\n",
    "\n",
    "# print(student.id) will create an error since it is an instance attribute and it cannot be accessed by class\n",
    "print(\"No. of students\", Student.noofstudent)\n",
    "print(\"For s2 object\", s2.id)\n",
    "\n",
    "#instance specific class attribute value\n",
    "print(s1.noofstudent)"
   ]
  },
  {
   "cell_type": "code",
   "execution_count": null,
   "metadata": {},
   "outputs": [],
   "source": []
  }
 ],
 "metadata": {
  "kernelspec": {
   "display_name": "Python 3",
   "language": "python",
   "name": "python3"
  },
  "language_info": {
   "codemirror_mode": {
    "name": "ipython",
    "version": 3
   },
   "file_extension": ".py",
   "mimetype": "text/x-python",
   "name": "python",
   "nbconvert_exporter": "python",
   "pygments_lexer": "ipython3",
   "version": "3.10.13"
  }
 },
 "nbformat": 4,
 "nbformat_minor": 2
}
