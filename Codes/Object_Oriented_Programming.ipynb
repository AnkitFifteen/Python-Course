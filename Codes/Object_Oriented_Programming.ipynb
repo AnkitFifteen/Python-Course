{
 "cells": [
  {
   "cell_type": "code",
   "execution_count": null,
   "metadata": {},
   "outputs": [],
   "source": [
    "'''\n",
    "Object Oriented Programming\n",
    "1. object\n",
    "2. class(collection of similar type of objects, it is blueprint of an object)\n",
    "3. encapsulation(wrapping of a data in a single unit)\n",
    "4. inheritance\n",
    "5. polymorphism\n",
    "6. abstraction(hiding the implementation from user)\n",
    "   +- in python use abc(abstract base class module) has ABC CLASS which can hide implementation\n",
    "   +- e.g. \n",
    "            from abc import ABC\n",
    "\n",
    "            class Area(ABC):\n",
    "                @abstractmethod\n",
    "                def calculatearea(self):\n",
    "                    pass\n",
    "            \n",
    "            class Circle(Area):\n",
    "                def calculatearea(self):\n",
    "                    r = int(input(\"Enter radius: \"))\n",
    "                    print(\"Area of circle =\", 3.14 * r * r )\n",
    "            \n",
    "            c1 = Circle()\n",
    "            c1.calculatearea()\n",
    "\n",
    "____________________\n",
    "|class: student    |           \n",
    "|------------------|\n",
    "|id                |\n",
    "|name              |\n",
    "|course            |  <---- attributes\n",
    "|address           |\n",
    "|email             |\n",
    "|------------------|\n",
    "|study             |\n",
    "|assignment        |  <---- functions\n",
    "|assessment        |\n",
    "|__________________|\n",
    "\n",
    "class student:\n",
    "    id = 0\n",
    "    name = \"unknown\"\n",
    "    def display(self):          # self can be substituted with 'a'\n",
    "        print(self.id)\n",
    "        print(self.name)\n",
    "\n",
    "s1 = student()\n",
    "s1.id = 1\n",
    "s1.name = \"Prachi\"\n",
    "print(s1.id)\n",
    "print(s1.name)\n",
    "'''"
   ]
  },
  {
   "cell_type": "code",
   "execution_count": 25,
   "metadata": {},
   "outputs": [
    {
     "name": "stdout",
     "output_type": "stream",
     "text": [
      "#1: \n",
      "id 15 name unknown\n",
      "#2: \n",
      "1\n",
      "#3: \n",
      "id 15 name Prachi\n",
      "#4: \n",
      "id 15 name Prachi\n",
      "#5: \n",
      "using class id 3 name unknown\n",
      "3\n",
      "15\n"
     ]
    }
   ],
   "source": [
    "#Program #OOP.1 Ver 1\n",
    "class student:\n",
    "    id = 0\n",
    "    name = \"unknown\"\n",
    "\n",
    "    def display(self):\n",
    "        self.id = 15\n",
    "        print(f\"id {self.id} name {self.name}\")\n",
    "\n",
    "    def display1():\n",
    "        student.id = 3\n",
    "        print(f\"using class id {student.id} name {student.name}\")\n",
    "\n",
    "s1,s2 = student(), student()\n",
    "s1.id = 1\n",
    "s1.name = \"Prachi\"\n",
    "\n",
    "s2.id = 20\n",
    "print(\"#1: \")\n",
    "s2.display()\n",
    "\n",
    "print(\"#2: \")\n",
    "print(s1.id)\n",
    "\n",
    "print(\"#3: \")\n",
    "s1.display()\n",
    "\n",
    "print(\"#4: \")\n",
    "student.display(s1)\n",
    "\n",
    "print(\"#5: \")\n",
    "student.display1()\n",
    "\n",
    "print(student.id)\n",
    "print(s1.id)"
   ]
  },
  {
   "cell_type": "code",
   "execution_count": 1,
   "metadata": {},
   "outputs": [
    {
     "name": "stdout",
     "output_type": "stream",
     "text": [
      "ID: 1 Name: tim\n",
      "ID: 2 Name: yim\n",
      "ID: 3 Name: vim\n",
      "ID: 4 Name: poi\n",
      "ID: 5 Name: dfe\n"
     ]
    }
   ],
   "source": [
    "'''\n",
    "Program #OOP.2 Ver 1\n",
    "Create Student class and 5 objects of that class\n",
    "Ask for id, name for each object\n",
    "Display all objects\n",
    "'''\n",
    "\n",
    "class Student:\n",
    "    id = 0\n",
    "    name = \"default\"\n",
    "\n",
    "    def display(self):\n",
    "        print(\"ID:\", self.id, \"Name:\", self.name)\n",
    "\n",
    "StudentObjects = list()\n",
    "\n",
    "for i in range(0,5):\n",
    "    ObjectRef = \"s\" + str(i)\n",
    "    ObjectRef = Student()\n",
    "    ObjectRef.id = int(input(f\"Enter ID for object {i + 1} : \"))\n",
    "    ObjectRef.name = str(input(f\"Enter name for object {i + 1} : \"))\n",
    "    StudentObjects.append(ObjectRef)\n",
    "\n",
    "for StudentObject in StudentObjects:\n",
    "    StudentObject.display()"
   ]
  },
  {
   "cell_type": "code",
   "execution_count": 9,
   "metadata": {},
   "outputs": [
    {
     "name": "stdout",
     "output_type": "stream",
     "text": [
      "ID:  78\n",
      "78\n",
      "ID:  1\n",
      "No. of students 2\n",
      "For s2 object 1\n",
      "90\n"
     ]
    }
   ],
   "source": [
    "'''\n",
    "Program #OOP.3 Ver 1\n",
    "class attribute\n",
    "1. within class\n",
    "2. can be accessed by class and object\n",
    "3. value can be changed inside and outside instance/class method\n",
    "\n",
    "instance attribute\n",
    "1. within constructor\n",
    "2. object access\n",
    "3. value can be inside and outside the instance method only\n",
    "'''\n",
    "\n",
    "class Student:\n",
    "    #class attributes\n",
    "    noofstudent = 0\n",
    "    def __init__(self):\n",
    "        #instance attributes\n",
    "        self.id = 1\n",
    "        self.name = \"unknown\"\n",
    "\n",
    "        #class attribute\n",
    "        Student.noofstudent = Student.noofstudent + 1\n",
    "\n",
    "        #instance specific value of class attribute\n",
    "        self.noofstudent = 90\n",
    "    def display(self):\n",
    "        print(\"ID: \", self.id)\n",
    "\n",
    "s1 = Student()\n",
    "s1.id = 78\n",
    "s1.display()\n",
    "print(s1.id)\n",
    "\n",
    "s2 = Student()\n",
    "s2.display()\n",
    "\n",
    "# print(student.id) will create an error since it is an instance attribute and it cannot be accessed by class\n",
    "print(\"No. of students\", Student.noofstudent)\n",
    "print(\"For s2 object\", s2.id)\n",
    "\n",
    "#instance specific class attribute value\n",
    "print(s1.noofstudent)"
   ]
  },
  {
   "cell_type": "code",
   "execution_count": 2,
   "metadata": {},
   "outputs": [
    {
     "name": "stdout",
     "output_type": "stream",
     "text": [
      "1\n",
      "1\n",
      "2\n",
      "3\n",
      "4\n"
     ]
    }
   ],
   "source": [
    "'''\n",
    "Program #OOP.4 Ver 1\n",
    "Parameterized constructor\n",
    "'''\n",
    "\n",
    "class student:\n",
    "    def __init__(self, id1, name):\n",
    "        self.id = id1\n",
    "        self.name = name\n",
    "\n",
    "    def display(self):\n",
    "        print(self.id)\n",
    "\n",
    "s1 = student(1, \"Prachi\")\n",
    "s2 = student(2, \"Jaya\")\n",
    "s3 = student(3, \"Himanshi\")\n",
    "s4 = student(4, \"Navin\")\n",
    "\n",
    "s1.display()\n",
    "print(s1.id)\n",
    "print(s2.id)\n",
    "print(s3.id)\n",
    "print(s4.id)"
   ]
  },
  {
   "cell_type": "code",
   "execution_count": 30,
   "metadata": {},
   "outputs": [
    {
     "name": "stdout",
     "output_type": "stream",
     "text": [
      "{3: ('afgar', 85, 2200), 5: ('jshf', 85, 2001)}\n",
      "{5: ('jshf', 85, 2001)}\n"
     ]
    }
   ],
   "source": [
    "'''\n",
    "Program #OOP.5 Ver 1\n",
    "Done inside the class\n",
    "Create a python program which has class named book, and its attributes id, name, price, year of publication, etc.\n",
    "Create 2  methods which allow you to add or remove books object from collection.\n",
    "\n",
    "method #1 add data to collection\n",
    "method #2 remove data from collection\n",
    "'''\n",
    "\n",
    "class Books:\n",
    "    Books_Dict = {}\n",
    "    \n",
    "    def Add(self, IDFromCall, NameFromCall, PriceFromCall, YearOfPublicationFromCall):\n",
    "        self.ID = IDFromCall\n",
    "        self.Name = NameFromCall\n",
    "        self.Price = PriceFromCall\n",
    "        self.YearOfPublication = YearOfPublicationFromCall\n",
    "        Books.Books_Dict[IDFromCall] = (NameFromCall, PriceFromCall, YearOfPublicationFromCall)\n",
    "\n",
    "    def Remove(self, ID):\n",
    "        Books.Books_Dict.pop(ID)\n",
    "\n",
    "    def Display(self):\n",
    "        print(Books.Books_Dict)\n",
    "\n",
    "b1 = Books()\n",
    "b1.Add(3, \"afgar\", 85, 2200)\n",
    "b1.Add(5, \"jshf\", 85, 2001)\n",
    "b1.Display()\n",
    "b1.Remove(3)\n",
    "b1.Display()"
   ]
  },
  {
   "cell_type": "code",
   "execution_count": 32,
   "metadata": {},
   "outputs": [
    {
     "name": "stdout",
     "output_type": "stream",
     "text": [
      "java\n"
     ]
    }
   ],
   "source": [
    "'''\n",
    "Program #OOP.5 \n",
    "Done outside the class\n",
    "'''\n",
    "listbook = list()\n",
    "\n",
    "def addbook(bookobj):\n",
    "    listbook.append(bookobj)\n",
    "\n",
    "class book:\n",
    "    def __init__(self, id1, name, price):\n",
    "        self.id = id1\n",
    "        self.name = name\n",
    "        self.price = price\n",
    "\n",
    "b1 = book(1, \"java\", 2000)\n",
    "b2 = book(2, \"prachi\", 3000)\n",
    "\n",
    "addbook(b1)\n",
    "\n",
    "for i in listbook:\n",
    "    print(i.name)"
   ]
  },
  {
   "cell_type": "code",
   "execution_count": 36,
   "metadata": {},
   "outputs": [],
   "source": [
    "'''\n",
    "Program #OOP.5 Ver. 2\n",
    "Done inside the class\n",
    "'''\n",
    "\n",
    "class book:\n",
    "    #class attribute\n",
    "    listbook = list()\n",
    "\n",
    "    #class method\n",
    "    def addbook(bookobj):\n",
    "        book.listbook.append(bookobj)\n",
    "\n",
    "    def removebook(bookobj):\n",
    "        book.listbook.remove(bookobj)\n",
    "\n",
    "    def display():\n",
    "        for i in listbook:\n",
    "            print(i.name)\n",
    "\n",
    "    def __init__(self, id1, name, price):\n",
    "        self.id = id1\n",
    "        self.name = name\n",
    "        self.price = price\n",
    "\n",
    "\n",
    "b1 = book(1, \"java\", 2000)\n",
    "b2 = book(2, \"prachi\", 3000)\n",
    "\n",
    "book.addbook(b1)\n",
    "book.removebook(b1)\n",
    "\n",
    "for i in book.listbook:\n",
    "    print(\"after remove\", i)"
   ]
  },
  {
   "cell_type": "code",
   "execution_count": 6,
   "metadata": {
    "metadata": {}
   },
   "outputs": [
    {
     "name": "stdout",
     "output_type": "stream",
     "text": [
      " Name of person jaya and ID of person 3\n",
      " Designation of employee trainer and department of employee it\n"
     ]
    }
   ],
   "source": [
    "\"\"\"\n",
    "Program #OOP.6 Ver. 1\n",
    "Single Inheritance\n",
    "ParentClass --> ChildClass\n",
    "\"\"\"\n",
    "\n",
    "#Parent Class\n",
    "class Person:\n",
    "    def __init__(self, id1, name):\n",
    "        self.id = id1\n",
    "        self.name = name\n",
    "\n",
    "    def display(self):\n",
    "        print(f\" Name of person {self.name} and ID of person {self.id}\")\n",
    "\n",
    "#Child Class\n",
    "class Employee(Person):\n",
    "    def __init__(self, id1, name, des, dep):\n",
    "        Person.__init__(self, id1, name)\n",
    "        self.designation = des\n",
    "        self.dep = dep\n",
    "\n",
    "    def display(self):\n",
    "        Person.display(self)\n",
    "        # print(self.designation)\n",
    "        # print(self.dep)\n",
    "        print(f\" Designation of employee {self.designation} and department of employee {self.dep}\")\n",
    "\n",
    "e0 = Employee(3, \"jaya\", \"trainer\", \"it\")\n",
    "e0.display()\n",
    "\n",
    "# e1 = Employee()\n",
    "# e1.display()\n",
    "\n"
   ]
  },
  {
   "cell_type": "code",
   "execution_count": 10,
   "metadata": {
    "metadata": {}
   },
   "outputs": [
    {
     "name": "stdout",
     "output_type": "stream",
     "text": [
      "Rishi Kapoor\n",
      "Ranbir Rishi Kapoor\n"
     ]
    }
   ],
   "source": [
    "'''\n",
    "Multi Level Inheritance\n",
    "GrandParentClass --> ParentClass --> ChildClass\n",
    "'''\n",
    "\n",
    "class GrandParent:\n",
    "    def __init__(self, GrandName):\n",
    "        self.GrandName = GrandName\n",
    "\n",
    "class Parent(GrandParent):\n",
    "    def __init__(self, ParentName, GrandName):\n",
    "        GrandParent.__init__(self, GrandName)\n",
    "        self.ParentName = ParentName\n",
    "        print(f\"{self.ParentName} {self.GrandName}\")\n",
    "\n",
    "class Child(Parent):\n",
    "    def __init__(self, ParentName, GrandName, ChildName):\n",
    "        Parent.__init__(self, ParentName, GrandName)\n",
    "        self.ChildName = ChildName\n",
    "\n",
    "    def Display(self):\n",
    "        print(f\"{self.ChildName} {self.ParentName} {self.GrandName}\")\n",
    "\n",
    "C1 = Child(\"Rishi\", \"Kapoor\", \"Ranbir\")\n",
    "C1.Display()\n",
    "        "
   ]
  },
  {
   "cell_type": "code",
   "execution_count": null,
   "metadata": {},
   "outputs": [],
   "source": [
    "'''\n",
    "Multiple Inheritance\n",
    "ParentClass1 --> ChildClass1\n",
    "ParentClass2 --> ChildClass1\n",
    "'''\n",
    "\n",
    "class P1:\n",
    "    def __init__(self):\n",
    "        self.parent1 = \"unknown p1\"\n",
    "\n",
    "class P2:\n",
    "    def __init__(self):\n",
    "        self.parent2 = \"unknown p2\"\n",
    "\n",
    "class child(P1, P2):\n",
    "    def __init__(self):\n",
    "        P1.__init__(self)\n",
    "        P2.__init__(self)\n"
   ]
  },
  {
   "cell_type": "code",
   "execution_count": null,
   "metadata": {},
   "outputs": [],
   "source": [
    "'''\n",
    "Hierarchial Inheritance\n",
    "ParentClass1 --> ChildClass1\n",
    "ParentClass2 --> ChildClass2\n",
    "'''"
   ]
  },
  {
   "cell_type": "code",
   "execution_count": null,
   "metadata": {},
   "outputs": [],
   "source": [
    "'''\n",
    "Hybrid Inheritance\n",
    "'''\n"
   ]
  },
  {
   "cell_type": "code",
   "execution_count": 18,
   "metadata": {},
   "outputs": [
    {
     "name": "stdout",
     "output_type": "stream",
     "text": [
      "C1\n",
      "C3\n",
      "class C3\n",
      "class C3\n"
     ]
    }
   ],
   "source": [
    "'''\n",
    "Diamond Problem [Multiple Inheritance]\n",
    "ParentClass1---> ChildClass1    ----> ChildClass3\n",
    "            `--> ChildClass2 -->^\n",
    "'''\n",
    "\n",
    "class P1:\n",
    "    def __init__(self):\n",
    "        self.name = \"class P1\"\n",
    "        print(\"P1\")\n",
    "\n",
    "class C1(P1):\n",
    "    def __init__(self):\n",
    "        self.name = \"class C1\"\n",
    "        print(\"C1\")\n",
    "    \n",
    "    def display(self):\n",
    "        print(self.name)\n",
    "\n",
    "class C2(P1):\n",
    "    def __init__(self):\n",
    "        self.name = \"class C2\"\n",
    "        print(\"C2\")\n",
    "\n",
    "class C3(C1, C2):\n",
    "    def __init__(self):\n",
    "        C1.__init__(self)\n",
    "        self.name = \"class C3\"  #put this line above to get class C1\n",
    "        print(\"C3\")\n",
    "\n",
    "    def display(self):\n",
    "        print(self.name)\n",
    "        C1.display(self)\n",
    "\n",
    "C3Obj = C3()\n",
    "C3Obj.display()"
   ]
  },
  {
   "cell_type": "code",
   "execution_count": 19,
   "metadata": {},
   "outputs": [],
   "source": [
    "class India:\n",
    "    def __init__(self):\n",
    "        self.capital = \"Delhi\"\n",
    "        self.language = \"Hindi\"\n",
    "\n",
    "    def display(self):\n",
    "        print(self.capital)\n",
    "        print(self.language)\n",
    "\n",
    "class USA:\n",
    "    def __init__(self):\n",
    "        self.capital = \"Washington\"\n",
    "        self.language = \"English\"\n",
    "\n",
    "    def display(self):\n",
    "        print(self.language)\n",
    "        print(self.capital)\n"
   ]
  },
  {
   "cell_type": "code",
   "execution_count": 20,
   "metadata": {},
   "outputs": [
    {
     "name": "stdout",
     "output_type": "stream",
     "text": [
      "IT\n"
     ]
    }
   ],
   "source": [
    "#super keyword refers immediate parent class\n",
    "class Person:\n",
    "    def __init__(self):\n",
    "        self.name = \"unknown\"\n",
    "\n",
    "    def display(self):\n",
    "        print(self.name)\n",
    "\n",
    "class Employee(Person):\n",
    "    def __init__(self, dep, des):\n",
    "        super().__init__()            #equivalent to --> Person.__init__(self)\n",
    "        self.department = \"IT\"\n",
    "        self.designation = des\n",
    "\n",
    "    def display(self):\n",
    "        super().display()             #equivalent to --> Person.display(self)\n",
    "        print(f\" designation of emp {self.designation} and dep of emp {self.department}\")\n",
    "\n",
    "E1 = Employee()\n",
    "E1.display()\n",
    "    "
   ]
  },
  {
   "cell_type": "code",
   "execution_count": 4,
   "metadata": {},
   "outputs": [
    {
     "ename": "TypeError",
     "evalue": "'>' not supported between instances of 'ta' and 'tb'",
     "output_type": "error",
     "traceback": [
      "\u001b[0;31m---------------------------------------------------------------------------\u001b[0m",
      "\u001b[0;31mTypeError\u001b[0m                                 Traceback (most recent call last)",
      "Cell \u001b[0;32mIn[4], line 14\u001b[0m\n\u001b[1;32m     11\u001b[0m obj1 \u001b[38;5;241m=\u001b[39m ta(\u001b[38;5;241m2\u001b[39m,\u001b[38;5;241m3\u001b[39m)\n\u001b[1;32m     12\u001b[0m obj2 \u001b[38;5;241m=\u001b[39m tb(\u001b[38;5;241m5\u001b[39m,\u001b[38;5;241m6\u001b[39m)\n\u001b[0;32m---> 14\u001b[0m \u001b[43mobj1\u001b[49m\u001b[43m \u001b[49m\u001b[38;5;241;43m>\u001b[39;49m\u001b[43m \u001b[49m\u001b[43mobj2\u001b[49m\n",
      "\u001b[0;31mTypeError\u001b[0m: '>' not supported between instances of 'ta' and 'tb'"
     ]
    }
   ],
   "source": [
    "class ta:\n",
    "    def __init__(self, a_val, b_val):\n",
    "        self.a = a_val\n",
    "        self.b= b_val\n",
    "\n",
    "class tb:\n",
    "    def __init__(self, a_val, b_val):\n",
    "        self.a = a_val\n",
    "        self.b= b_val\n",
    "\n",
    "obj1 = ta(2,3)\n",
    "obj2 = tb(5,6)\n",
    "\n",
    "obj1 > obj2"
   ]
  },
  {
   "cell_type": "code",
   "execution_count": 6,
   "metadata": {},
   "outputs": [
    {
     "data": {
      "text/plain": [
       "'object 1 < object 2'"
      ]
     },
     "execution_count": 6,
     "metadata": {},
     "output_type": "execute_result"
    }
   ],
   "source": [
    "'''\n",
    "Polymorphism\n",
    "-method overriding\n",
    "-operator overloading\n",
    "+-can be achieved using magic function\n",
    "++-call magic functions to use operator with anything e.g. __lt__, __lte__, __add__, __sub__, __mul__, __mod__, __pow__, __truediv__, __floordiv__\n",
    "'''\n",
    "\n",
    "class Demo:\n",
    "    def __init__(self, a, b):\n",
    "        self.a = a\n",
    "        self.b = b\n",
    "\n",
    "    def __gt__(self, other):\n",
    "        if self.a > other.a:\n",
    "            return \"object 1 > object 2\"\n",
    "        else:\n",
    "            return \"object 1 < object 2\"\n",
    "\n",
    "obj1 = Demo(5,6)\n",
    "obj2 = Demo(18,3)\n",
    "\n",
    "obj1 > obj2\n"
   ]
  },
  {
   "cell_type": "code",
   "execution_count": 16,
   "metadata": {},
   "outputs": [
    {
     "name": "stdout",
     "output_type": "stream",
     "text": [
      "name of emp abc and phone of emp 854\n",
      "\n",
      "name of emp gbh and phone of emp 584 and email of emp erfg@yhgl.com\n",
      "\n"
     ]
    }
   ],
   "source": [
    "'''\n",
    "use default parameters to do constructor overloading and method overloading in python\n",
    "'''\n",
    "\n",
    "class Demo:\n",
    "    def __init__(self, Name, PhoneNo, EMail = None):\n",
    "        self.name = Name\n",
    "        self.phone = PhoneNo\n",
    "        self.email = EMail\n",
    "\n",
    "    def Display(self):\n",
    "        if self.email == None:\n",
    "            print(f\"name of emp {self.name} and phone of emp {self.phone}\")\n",
    "        else:\n",
    "            print(f\"name of emp {self.name} and phone of emp {self.phone} and email of emp {self.email}\")\n",
    "\n",
    "    def Display(self, addNewLine = True):\n",
    "        if self.email == None:\n",
    "            print(f\"name of emp {self.name} and phone of emp {self.phone}\")\n",
    "        else:\n",
    "            print(f\"name of emp {self.name} and phone of emp {self.phone} and email of emp {self.email}\")        \n",
    "        if addNewLine:\n",
    "            print()\n",
    "\n",
    "obj1 = Demo(\"abc\", 854)\n",
    "obj1.Display(True)\n",
    "\n",
    "obj2 = Demo(\"gbh\", 584, \"erfg@yhgl.com\")\n",
    "obj2.Display()"
   ]
  },
  {
   "cell_type": "code",
   "execution_count": 28,
   "metadata": {},
   "outputs": [
    {
     "ename": "AttributeError",
     "evalue": "type object 'person' has no attribute '_stu__displayname'",
     "output_type": "error",
     "traceback": [
      "\u001b[0;31m---------------------------------------------------------------------------\u001b[0m",
      "\u001b[0;31mAttributeError\u001b[0m                            Traceback (most recent call last)",
      "Cell \u001b[0;32mIn[28], line 19\u001b[0m\n\u001b[1;32m     16\u001b[0m         \u001b[38;5;28mprint\u001b[39m(\u001b[38;5;28mself\u001b[39m\u001b[38;5;241m.\u001b[39mrollno)\n\u001b[1;32m     18\u001b[0m s1 \u001b[38;5;241m=\u001b[39m stu(\u001b[38;5;124m\"\u001b[39m\u001b[38;5;124mprachi\u001b[39m\u001b[38;5;124m\"\u001b[39m, \u001b[38;5;241m1\u001b[39m)\n\u001b[0;32m---> 19\u001b[0m \u001b[43ms1\u001b[49m\u001b[38;5;241;43m.\u001b[39;49m\u001b[43mdisplay\u001b[49m\u001b[43m(\u001b[49m\u001b[43m)\u001b[49m\n\u001b[1;32m     21\u001b[0m s2 \u001b[38;5;241m=\u001b[39m stu(\u001b[38;5;124m\"\u001b[39m\u001b[38;5;124mjaya\u001b[39m\u001b[38;5;124m\"\u001b[39m, \u001b[38;5;241m2\u001b[39m)\n\u001b[1;32m     22\u001b[0m s2\u001b[38;5;241m.\u001b[39mdisplay()\n",
      "Cell \u001b[0;32mIn[28], line 15\u001b[0m, in \u001b[0;36mstu.display\u001b[0;34m(self)\u001b[0m\n\u001b[1;32m     14\u001b[0m \u001b[38;5;28;01mdef\u001b[39;00m \u001b[38;5;21mdisplay\u001b[39m(\u001b[38;5;28mself\u001b[39m):\n\u001b[0;32m---> 15\u001b[0m     \u001b[43mperson\u001b[49m\u001b[38;5;241;43m.\u001b[39;49m\u001b[43m__displayname\u001b[49m(\u001b[38;5;28mself\u001b[39m)\n\u001b[1;32m     16\u001b[0m     \u001b[38;5;28mprint\u001b[39m(\u001b[38;5;28mself\u001b[39m\u001b[38;5;241m.\u001b[39mrollno)\n",
      "\u001b[0;31mAttributeError\u001b[0m: type object 'person' has no attribute '_stu__displayname'"
     ]
    }
   ],
   "source": [
    "class person:\n",
    "    __name = \"name\"              #private <- only same class access\n",
    "    def __init__(self, name):\n",
    "        self.__name = name\n",
    "\n",
    "    def _displayname(self):\n",
    "        print(self.__name)\n",
    "\n",
    "class stu(person):\n",
    "    def __init__(self, name, rollno):\n",
    "        super().__init__(name)\n",
    "        self.rollno = rollno\n",
    "    \n",
    "    def display(self):\n",
    "        self._displayname(self)\n",
    "        print(self.rollno)\n",
    "\n",
    "s1 = stu(\"prachi\", 1)\n",
    "s1.display()\n",
    "\n",
    "s2 = stu(\"jaya\", 2)\n",
    "s2.display()"
   ]
  },
  {
   "cell_type": "code",
   "execution_count": 31,
   "metadata": {},
   "outputs": [
    {
     "name": "stdout",
     "output_type": "stream",
     "text": [
      "Percentage = 67.5\n",
      "Percentage = 76.0\n",
      "Percentage = 65.25\n",
      "Percentage = 45.0\n"
     ]
    }
   ],
   "source": [
    "'''\n",
    "create student class with english, maths, science, hindi\n",
    "create 4 students s1,s2,s3,s4. \n",
    "s4 has not given hindi exam\n",
    "calculate percentage of each student accordingly.\n",
    "'''\n",
    "\n",
    "class Student:\n",
    "    def __init__(self, EnglishMarks, MathsMarks, ScienceMarks, HindiMarks = 0):\n",
    "        self.english = EnglishMarks\n",
    "        self.maths = MathsMarks\n",
    "        self.science = ScienceMarks\n",
    "        self.hindi = HindiMarks\n",
    "\n",
    "    def DisplayPercentage(self):\n",
    "        print(f\"Percentage = {((self.english + self.maths + self.science + self.hindi)/400) * 100}\")\n",
    "\n",
    "s1 = Student(50, 45, 85, 90)\n",
    "s1.DisplayPercentage()\n",
    "\n",
    "s2 = Student(60, 98, 81, 65)\n",
    "s2.DisplayPercentage()\n",
    "\n",
    "s3 = Student(68, 45, 58, 90)\n",
    "s3.DisplayPercentage()\n",
    "\n",
    "s4 = Student(50, 45, 85)\n",
    "s4.DisplayPercentage()\n"
   ]
  },
  {
   "cell_type": "code",
   "execution_count": null,
   "metadata": {},
   "outputs": [],
   "source": [
    "'''\n",
    "Access Modifier \n",
    "-Public     Access--> Within the class && outside the class && derived class\n",
    "-Private    Access--> Within the class \n",
    "-Protected  Access--> Within the class \n",
    "'''\n"
   ]
  },
  {
   "cell_type": "code",
   "execution_count": 4,
   "metadata": {},
   "outputs": [
    {
     "name": "stdout",
     "output_type": "stream",
     "text": [
      "Area of circle = 78.5\n",
      "Area of rectangle = 30\n"
     ]
    }
   ],
   "source": [
    "'''\n",
    "Abstraction\n",
    "'''\n",
    "from abc import ABC, abstractmethod\n",
    "\n",
    "class Area(ABC):\n",
    "    @abstractmethod\n",
    "    def calculatearea(self):\n",
    "        pass\n",
    "\n",
    "class Circle(Area):\n",
    "    def calculatearea(self):\n",
    "        r = int(input(\"Enter radius: \"))\n",
    "        print(\"Area of circle =\", 3.14 * r * r )\n",
    "\n",
    "class Rectangle(Area):\n",
    "    def calculatearea(self):\n",
    "        l = int(input(\"Enter length: \"))\n",
    "        b = int(input(\"Enter breadth: \"))\n",
    "        print(\"Area of rectangle =\", l * b )\n",
    "\n",
    "c1 = Circle()\n",
    "c1.calculatearea()\n",
    "\n",
    "r1 = Rectangle()\n",
    "r1.calculatearea()"
   ]
  },
  {
   "cell_type": "code",
   "execution_count": 11,
   "metadata": {},
   "outputs": [
    {
     "name": "stdout",
     "output_type": "stream",
     "text": [
      "Model: TOP MODEL Car Type: EV Launch Year: 2020.\n",
      " This is EV with 350 range. This is top model and it has sunroof.\n",
      "Model: TOP MODEL Car Type: PETROL CAR Launch Year: 2001.\n",
      " This is petrol based vehicle. It has 45L tank.\n"
     ]
    }
   ],
   "source": [
    "'''\n",
    "create 1 abstract class with attributes\n",
    "    - model\n",
    "    - type of fueling system: petrol, diesel, electric\n",
    "    - sun roof: with, without\n",
    "create 1 abstract method display where you will display car details according to the \n",
    "object initialized\n",
    "\n",
    "create 2 more classes like tatamotor ev, ertiga and initialise\n",
    "the attributes defined in abstract class car and implement the abstract method display()\n",
    "'''\n",
    "\n",
    "from abc import ABC, abstractmethod\n",
    "\n",
    "class Car(ABC):\n",
    "    def __init__(self, Model, CarType, LaunchYear):\n",
    "        self.Model = Model\n",
    "        self.CarType = CarType\n",
    "        self.LaunchYear = LaunchYear\n",
    "\n",
    "    @abstractmethod\n",
    "    def Display(self):\n",
    "        pass\n",
    "\n",
    "class TataMotorsNexonEV(Car):\n",
    "    def Display(self):\n",
    "        print(f\"Model: {self.Model} Car Type: {self.CarType} Launch Year: {self.LaunchYear}.\\n This is EV with 350 range. This is top model and it has sunroof.\")\n",
    "\n",
    "\n",
    "class Ertiga(Car):\n",
    "    Model = \"EVT87\"\n",
    "    FuelingSystem = \"Electric\"\n",
    "    SunRoof = \"Present\"\n",
    "\n",
    "    def Display(self):\n",
    "        print(f\"Model: {self.Model} Car Type: {self.CarType} Launch Year: {self.LaunchYear}.\\n This is petrol based vehicle. It has 45L tank.\")\n",
    "\n",
    "t1 = TataMotorsNexonEV(\"TOP MODEL\", \"EV\", 2020)\n",
    "e1 = Ertiga(\"TOP MODEL\", \"PETROL CAR\", 2001)\n",
    "\n",
    "t1.Display()\n",
    "e1.Display()"
   ]
  },
  {
   "cell_type": "code",
   "execution_count": 31,
   "metadata": {},
   "outputs": [
    {
     "name": "stdout",
     "output_type": "stream",
     "text": [
      "Before expression\n",
      "number is divided by zero\n",
      "After expression\n",
      "I am done with my code\n",
      "index is out of range\n",
      "solving te\n",
      "type error\n",
      "name error\n",
      "There is name error\n",
      "Hello\n",
      "error handled\n",
      "after error\n"
     ]
    },
    {
     "ename": "ZeroDivisionError",
     "evalue": "division by zero",
     "output_type": "error",
     "traceback": [
      "\u001b[0;31m---------------------------------------------------------------------------\u001b[0m",
      "\u001b[0;31mZeroDivisionError\u001b[0m                         Traceback (most recent call last)",
      "Cell \u001b[0;32mIn[31], line 67\u001b[0m\n\u001b[1;32m     64\u001b[0m     \u001b[38;5;28;01mexcept\u001b[39;00m \u001b[38;5;167;01mIndexError\u001b[39;00m:\n\u001b[1;32m     65\u001b[0m         \u001b[38;5;28mprint\u001b[39m(\u001b[38;5;124m\"\u001b[39m\u001b[38;5;124mindex error\u001b[39m\u001b[38;5;124m\"\u001b[39m)\n\u001b[0;32m---> 67\u001b[0m \u001b[43mdivision\u001b[49m\u001b[43m(\u001b[49m\u001b[38;5;241;43m5\u001b[39;49m\u001b[43m,\u001b[49m\u001b[38;5;241;43m0\u001b[39;49m\u001b[43m)\u001b[49m\n",
      "Cell \u001b[0;32mIn[31], line 63\u001b[0m, in \u001b[0;36mdivision\u001b[0;34m(a, b)\u001b[0m\n\u001b[1;32m     61\u001b[0m \u001b[38;5;28;01mdef\u001b[39;00m \u001b[38;5;21mdivision\u001b[39m(a,b):\n\u001b[1;32m     62\u001b[0m     \u001b[38;5;28;01mtry\u001b[39;00m:\n\u001b[0;32m---> 63\u001b[0m         c \u001b[38;5;241m=\u001b[39m \u001b[43ma\u001b[49m\u001b[38;5;241;43m/\u001b[39;49m\u001b[43mb\u001b[49m\n\u001b[1;32m     64\u001b[0m     \u001b[38;5;28;01mexcept\u001b[39;00m \u001b[38;5;167;01mIndexError\u001b[39;00m:\n\u001b[1;32m     65\u001b[0m         \u001b[38;5;28mprint\u001b[39m(\u001b[38;5;124m\"\u001b[39m\u001b[38;5;124mindex error\u001b[39m\u001b[38;5;124m\"\u001b[39m)\n",
      "\u001b[0;31mZeroDivisionError\u001b[0m: division by zero"
     ]
    }
   ],
   "source": [
    "import math\n",
    "a = 7\n",
    "b = 0\n",
    "\n",
    "print(\"Before expression\")\n",
    "try:\n",
    "    print(a/b)\n",
    "except:\n",
    "    print(\"number is divided by zero\")\n",
    "print(\"After expression\")\n",
    "print(\"I am done with my code\")\n",
    "\n",
    "list1 = [1,2,3]\n",
    "try:\n",
    "    list1[4]\n",
    "except:\n",
    "    print(\"index is out of range\")\n",
    "\n",
    "a = 7\n",
    "b = \"Hello\"\n",
    "try:\n",
    "    c = a/b\n",
    "    print(math.divide(5,0))\n",
    "except ZeroDivisionError:\n",
    "    print(\"solving zde\")\n",
    "except IndexError:\n",
    "    print(\"solving ie\")\n",
    "except TypeError:\n",
    "    print(\"solving te\")\n",
    "try:\n",
    "    c = a + b\n",
    "except:\n",
    "    print(\"type error\")\n",
    "\n",
    "class stu:\n",
    "    id = 1\n",
    "    name = \"sam\"\n",
    "\n",
    "    def display(self):\n",
    "        try:\n",
    "            print(self.age)\n",
    "        except:\n",
    "            print(\"There is name error\")\n",
    "\n",
    "    try:\n",
    "        print(t)\n",
    "    except:\n",
    "        print(\"name error\")\n",
    "\n",
    "stu().display()\n",
    "\n",
    "print(\"Hello\")\n",
    "\n",
    "try:\n",
    "    c = a/0\n",
    "    print(\"Hi\")\n",
    "except:\n",
    "    print(\"error handled\")\n",
    "print(\"after error\")\n",
    "\n",
    "def division(a,b):\n",
    "    try:\n",
    "        c = a/b\n",
    "    except IndexError:\n",
    "        print(\"index error\")\n",
    "\n",
    "division(5,0)"
   ]
  },
  {
   "cell_type": "code",
   "execution_count": null,
   "metadata": {},
   "outputs": [],
   "source": []
  },
  {
   "cell_type": "code",
   "execution_count": null,
   "metadata": {},
   "outputs": [],
   "source": []
  }
 ],
 "metadata": {
  "kernelspec": {
   "display_name": "Python 3",
   "language": "python",
   "name": "python3"
  },
  "language_info": {
   "codemirror_mode": {
    "name": "ipython",
    "version": 3
   },
   "file_extension": ".py",
   "mimetype": "text/x-python",
   "name": "python",
   "nbconvert_exporter": "python",
   "pygments_lexer": "ipython3",
   "version": "3.10.13"
  }
 },
 "nbformat": 4,
 "nbformat_minor": 2
}
