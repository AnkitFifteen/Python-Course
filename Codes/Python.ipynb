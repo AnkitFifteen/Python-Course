{
 "cells": [
  {
   "cell_type": "code",
   "execution_count": 3,
   "id": "5d1df7f6-5e23-4480-80f8-bc853a001eae",
   "metadata": {},
   "outputs": [
    {
     "name": "stdout",
     "output_type": "stream",
     "text": [
      "Enter the number of units:  500\n"
     ]
    },
    {
     "name": "stdout",
     "output_type": "stream",
     "text": [
      "Bill amount: 900.0\n"
     ]
    }
   ],
   "source": [
    "#Calculate electricity\n",
    "\n",
    "units = int(input(\"Enter the number of units: \"))\n",
    "rate = 0\n",
    "\n",
    "if units > 0 and units <= 50:\n",
    "    rate = 0.5\n",
    "elif units > 50 and units <= 150:\n",
    "    rate = 0.75\n",
    "elif units > 150 and units <= 250:\n",
    "    rate = 1.20\n",
    "elif units > 250:\n",
    "    rate = 1.50\n",
    "elif units <= 0:\n",
    "    print(\"Wrong input.\")\n",
    "\n",
    "if units > 0:\n",
    "    print(\"Bill amount: \" + str(units * rate + (units * rate * 0.2)))"
   ]
  },
  {
   "cell_type": "code",
   "execution_count": 6,
   "id": "90d88427-1680-4d17-ae98-b6a32b3133f2",
   "metadata": {},
   "outputs": [
    {
     "name": "stdout",
     "output_type": "stream",
     "text": [
      "Enter the amount:  5467\n"
     ]
    },
    {
     "name": "stdout",
     "output_type": "stream",
     "text": [
      "No. of two thousand notes:  2\n",
      "No. of one thousand notes:  1\n",
      "No. of five hundred notes:  0\n",
      "No. of two hundred notes:  2\n",
      "No. of one hundred notes:  0\n",
      "No. of fifty notes:  1\n",
      "No. of ten notes:  1\n",
      "No. of five notes:  1\n",
      "No. of two notes:  1\n",
      "No. of one notes:  0\n"
     ]
    }
   ],
   "source": [
    "#Calculate number of notes\n",
    "\n",
    "amount = int(input(\"Enter the amount: \"))\n",
    "\n",
    "#Do floor division and get remainder\n",
    "two_thousand = amount // 2000\n",
    "amount = amount % 2000\n",
    "\n",
    "#Do floor division and get remainder on the remaining amount...\n",
    "one_thousand = amount // 1000\n",
    "amount = amount % 1000\n",
    "\n",
    "five_hundred = amount // 500\n",
    "amount = amount % 500\n",
    "\n",
    "two_hundred = amount // 200\n",
    "amount = amount % 200\n",
    "\n",
    "one_hundred = amount // 100\n",
    "amount = amount % 100\n",
    "\n",
    "fifty = amount // 50\n",
    "amount = amount % 50\n",
    "\n",
    "ten = amount // 10\n",
    "amount = amount % 10\n",
    "\n",
    "five = amount // 5\n",
    "amount = amount % 5\n",
    "\n",
    "two = amount // 2\n",
    "amount = amount % 2\n",
    "\n",
    "one = amount // 1\n",
    "amount = amount % 1\n",
    "\n",
    "print(\"No. of two thousand notes: \" ,two_thousand)\n",
    "print(\"No. of one thousand notes: \" ,one_thousand)\n",
    "print(\"No. of five hundred notes: \" ,five_hundred)\n",
    "print(\"No. of two hundred notes: \" ,two_hundred)\n",
    "print(\"No. of one hundred notes: \" ,one_hundred)\n",
    "print(\"No. of fifty notes: \" ,fifty)\n",
    "print(\"No. of ten notes: \" ,ten)\n",
    "print(\"No. of five notes: \" ,five)\n",
    "print(\"No. of two notes: \" ,two)\n",
    "print(\"No. of one notes: \" ,one)"
   ]
  },
  {
   "cell_type": "code",
   "execution_count": 33,
   "id": "2dec4e48-f4b9-48e0-a77d-363c8ce2c853",
   "metadata": {},
   "outputs": [
    {
     "name": "stdout",
     "output_type": "stream",
     "text": [
      "Enter number :  676\n"
     ]
    },
    {
     "name": "stdout",
     "output_type": "stream",
     "text": [
      "[6, 7, 6]\n",
      "It is a palindrome.\n"
     ]
    }
   ],
   "source": [
    "#Palindrome\n",
    "\n",
    "number = input(\"Enter number : \")\n",
    "number_in_list = []\n",
    "\n",
    "for digit in number:\n",
    "    number_in_list.append(int(digit))\n",
    "\n",
    "reversed_list = number_in_list[::-1]\n",
    "print(reversed_list)\n",
    "\n",
    "if number_in_list == reversed_list:\n",
    "    print(\"It is a palindrome.\")\n",
    "else:\n",
    "    print(\"It is not a palindrome.\")"
   ]
  },
  {
   "cell_type": "code",
   "execution_count": 1,
   "id": "f806d8cb-1ca3-4718-80a2-f890e875658e",
   "metadata": {},
   "outputs": [
    {
     "data": {
      "text/plain": [
       "range(0, 6)"
      ]
     },
     "execution_count": 1,
     "metadata": {},
     "output_type": "execute_result"
    }
   ],
   "source": [
    "range(6)"
   ]
  },
  {
   "cell_type": "code",
   "execution_count": 13,
   "id": "01c0f365-e32e-4766-a516-a331ec146943",
   "metadata": {},
   "outputs": [
    {
     "data": {
      "text/plain": [
       "'16749'"
      ]
     },
     "execution_count": 13,
     "metadata": {},
     "output_type": "execute_result"
    }
   ],
   "source": [
    "str(test)\n"
   ]
  },
  {
   "cell_type": "code",
   "execution_count": 18,
   "id": "6df01dda-6e95-468f-8593-5c9569787f46",
   "metadata": {},
   "outputs": [],
   "source": [
    "num = 1234\n",
    "lst = [int(i) for i in str(num)]"
   ]
  },
  {
   "cell_type": "code",
   "execution_count": 19,
   "id": "4ab68ec6-88ed-478e-a2e3-9339b97fb832",
   "metadata": {},
   "outputs": [
    {
     "data": {
      "text/plain": [
       "[1, 2, 3, 4]"
      ]
     },
     "execution_count": 19,
     "metadata": {},
     "output_type": "execute_result"
    }
   ],
   "source": [
    "lst"
   ]
  },
  {
   "cell_type": "code",
   "execution_count": 9,
   "id": "d131d58b-fa79-4df9-a268-afbec9113871",
   "metadata": {},
   "outputs": [
    {
     "name": "stdout",
     "output_type": "stream",
     "text": [
      "Start entering numbers:  5\n",
      " 45\n",
      " 1\n",
      " 9\n",
      " 45\n",
      " \n"
     ]
    },
    {
     "ename": "ValueError",
     "evalue": "invalid literal for int() with base 10: ''",
     "output_type": "error",
     "traceback": [
      "\u001b[1;31m---------------------------------------------------------------------------\u001b[0m",
      "\u001b[1;31mValueError\u001b[0m                                Traceback (most recent call last)",
      "Cell \u001b[1;32mIn[9], line 9\u001b[0m\n\u001b[0;32m      6\u001b[0m numbers \u001b[38;5;241m=\u001b[39m \u001b[38;5;28mint\u001b[39m(\u001b[38;5;28minput\u001b[39m(\u001b[38;5;124m\"\u001b[39m\u001b[38;5;124mStart entering numbers: \u001b[39m\u001b[38;5;124m\"\u001b[39m))\n\u001b[0;32m      8\u001b[0m \u001b[38;5;28;01mfor\u001b[39;00m number \u001b[38;5;129;01min\u001b[39;00m \u001b[38;5;28mrange\u001b[39m(\u001b[38;5;241m0\u001b[39m, numbers):\n\u001b[1;32m----> 9\u001b[0m         num \u001b[38;5;241m=\u001b[39m \u001b[38;5;28mint\u001b[39m(\u001b[38;5;28minput\u001b[39m())\n\u001b[0;32m     10\u001b[0m         \u001b[38;5;28;01mif\u001b[39;00m num \u001b[38;5;241m!=\u001b[39m \u001b[38;5;241m9\u001b[39m:\n\u001b[0;32m     11\u001b[0m             numbers_list\u001b[38;5;241m.\u001b[39mappend(num)  \n",
      "\u001b[1;31mValueError\u001b[0m: invalid literal for int() with base 10: ''"
     ]
    }
   ],
   "source": [
    "#Sum of numbers entered by user.\n",
    "\n",
    "numbers_list = []\n",
    "sum = 0\n",
    "\n",
    "numbers = int(input(\"Start entering numbers: \"))\n",
    "\n",
    "for number in range(0, numbers):\n",
    "        num = int(input())\n",
    "        if num != 9:\n",
    "            numbers_list.append(num)  \n",
    "    \n",
    "for n in number_list:\n",
    "    sum = sum + n\n",
    "    \n",
    "print(numbers_list)\n",
    "\n",
    "\n",
    "\n",
    "      \n",
    "\n"
   ]
  },
  {
   "cell_type": "code",
   "execution_count": 15,
   "id": "4f866d4e-8790-4ebb-b6cf-22c413a07229",
   "metadata": {},
   "outputs": [
    {
     "name": "stdout",
     "output_type": "stream",
     "text": [
      "Enter a number 5\n"
     ]
    }
   ],
   "source": [
    "a = input(\"Enter a number\")\n",
    "sum, product = 0, 0\n",
    "\n",
    "while (a != 'q' or a != 'Q'):\n",
    "    sum += int(a)\n",
    "    product = product * int(a)\n",
    "    a = input(\"Enter a number\")\n",
    "    \n",
    "    "
   ]
  },
  {
   "cell_type": "code",
   "execution_count": 19,
   "id": "ab6f1f81-cfaa-42ab-ad88-016ebd0ea730",
   "metadata": {},
   "outputs": [
    {
     "name": "stdout",
     "output_type": "stream",
     "text": [
      "Enter a number 5\n",
      "Enter a number 1\n",
      "Enter a number 1\n",
      "Enter a number q\n"
     ]
    },
    {
     "name": "stdout",
     "output_type": "stream",
     "text": [
      "Sum =  7\n",
      "Product =  5\n"
     ]
    }
   ],
   "source": [
    "a = input(\"Enter a number\")\n",
    "sum1 = 0\n",
    "product = 1\n",
    "\n",
    "while a.isdigit():\n",
    "    sum1 = sum1 + int(a)\n",
    "    product = product * int(a)\n",
    "    a = input(\"Enter a number\")\n",
    "else:\n",
    "    print(\"Sum = \" ,sum1)\n",
    "    print(\"Product = \", product)"
   ]
  },
  {
   "cell_type": "code",
   "execution_count": 28,
   "id": "4c34f544-e52f-418d-889b-9c6d9db1c2c2",
   "metadata": {},
   "outputs": [
    {
     "name": "stdout",
     "output_type": "stream",
     "text": [
      "Enter a number:  542\n"
     ]
    },
    {
     "name": "stdout",
     "output_type": "stream",
     "text": [
      "3\n"
     ]
    }
   ],
   "source": [
    "#Print no of digit\n",
    "\n",
    "count = 0\n",
    "number = int(input(\"Enter a number: \"))\n",
    "\n",
    "while number != 0:\n",
    "    number = number // 10\n",
    "    count += 1\n",
    "\n",
    "print(count)\n",
    "\n"
   ]
  },
  {
   "cell_type": "code",
   "execution_count": 32,
   "id": "d208bb58-6ff9-4919-be5d-65b0e91941ea",
   "metadata": {},
   "outputs": [
    {
     "name": "stdout",
     "output_type": "stream",
     "text": [
      "Enter number of elements:  9\n"
     ]
    },
    {
     "name": "stdout",
     "output_type": "stream",
     "text": [
      "[0, 1, 1, 2, 3, 5, 8, 13, 21]\n"
     ]
    }
   ],
   "source": [
    "#Print fibonacci series\n",
    "\n",
    "number_of_elements = int(input(\"Enter number of elements: \"))\n",
    "initial_fib_series = [0,1]\n",
    "pos = 0\n",
    "\n",
    "# initial_fib_series[0] + initial_fib_series[1]\n",
    "# initial_fib_series[1] + initial_fib_series[2]\n",
    "# initial_fib_series[2] + initial_fib_series[3]\n",
    "\n",
    "if number_of_elements < 2:\n",
    "    print(initial_fib_series)\n",
    "    \n",
    "while number_of_elements > 2:\n",
    "    initial_fib_series.append(initial_fib_series[pos] + initial_fib_series[pos + 1])\n",
    "    pos += 1\n",
    "    number_of_elements -= 1\n",
    "\n",
    "print(initial_fib_series)\n",
    "\n"
   ]
  },
  {
   "cell_type": "code",
   "execution_count": null,
   "id": "39f7d500-d91e-46ef-b45c-e6ee9ff26d00",
   "metadata": {},
   "outputs": [],
   "source": [
    "0 1 1 \n",
    "0 1 1 2 3\n",
    "\n",
    "0 1 1 2 3 5 8"
   ]
  },
  {
   "cell_type": "code",
   "execution_count": 6,
   "id": "4f3727c8",
   "metadata": {},
   "outputs": [
    {
     "name": "stdout",
     "output_type": "stream",
     "text": [
      "5\n",
      "2\n",
      "Average marks = 67.0\n"
     ]
    }
   ],
   "source": [
    "x , y = 2 , 5\n",
    "x = x + y\n",
    "y = x - y  \n",
    "x = x - y\n",
    "\n",
    "print(x)\n",
    "print(y)\n",
    "\n",
    "sub1_marks = 54\n",
    "sub2_marks = 55\n",
    "sub3_marks = 92\n",
    "\n",
    "print(\"Average marks =\", (sub1_marks + sub2_marks + sub3_marks)/3)\n",
    "\n"
   ]
  },
  {
   "cell_type": "code",
   "execution_count": 4,
   "id": "a7f290b3",
   "metadata": {},
   "outputs": [
    {
     "name": "stdout",
     "output_type": "stream",
     "text": [
      "sdgh\n"
     ]
    }
   ],
   "source": [
    "accepted_input = input(\"Enter a string: \")\n",
    "print(accepted_input)"
   ]
  },
  {
   "cell_type": "code",
   "execution_count": 2,
   "id": "2813de85",
   "metadata": {},
   "outputs": [
    {
     "name": "stdout",
     "output_type": "stream",
     "text": [
      "sf\n",
      "sf\n",
      "sf\n",
      "sf\n",
      "sf\n"
     ]
    }
   ],
   "source": [
    "char_count = 5\n",
    "\n",
    "while char_count != 0:\n",
    "    print('sf')\n",
    "    char_count -= 1"
   ]
  }
 ],
 "metadata": {
  "kernelspec": {
   "display_name": "Python 3 (ipykernel)",
   "language": "python",
   "name": "python3"
  },
  "language_info": {
   "codemirror_mode": {
    "name": "ipython",
    "version": 3
   },
   "file_extension": ".py",
   "mimetype": "text/x-python",
   "name": "python",
   "nbconvert_exporter": "python",
   "pygments_lexer": "ipython3",
   "version": "3.10.13"
  }
 },
 "nbformat": 4,
 "nbformat_minor": 5
}
