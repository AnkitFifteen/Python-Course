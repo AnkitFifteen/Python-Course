{
 "cells": [
  {
   "cell_type": "code",
   "execution_count": 140,
   "metadata": {},
   "outputs": [
    {
     "name": "stdout",
     "output_type": "stream",
     "text": [
      "Car Menu!\n",
      "\n",
      "1 - Toyota ('Troy', 25, 'Unavailable')\n",
      "2 - BMW ('1 Series', 15, 'Unavailable')\n",
      "3 - FIAT ('124 Spider', 20, 'Unavailable')\n",
      "4 - GMC ('1500 Club Coupe', 20, 'Available')\n",
      "5 - Jeep ('M105', 15, 'Available')\n",
      "6 - dragon ('age', 54, 'Available')\n",
      "7 - reds ('was', 24, 'Available')\n",
      "\n"
     ]
    },
    {
     "name": "stdout",
     "output_type": "stream",
     "text": [
      "Your choice: GMC\n",
      "Total rent = Rs. 1740\n"
     ]
    }
   ],
   "source": [
    "\n",
    "class CarRentalSystem():\n",
    "    Cars = dict()\n",
    "    CarsDictFilePath = \"CarsDict.txt\"\n",
    "\n",
    "    def __init__(self):\n",
    "        with open(self.CarsDictFilePath,'r',encoding='utf-8') as data: \n",
    "            self.Cars.update( eval(data.read()) )\n",
    "    \n",
    "    def AddCar(self, CarName, Model, PerHourRent = 10, Status = \"Unavailable\"):\n",
    "        self.Cars.update({CarName: (Model, PerHourRent, Status)})\n",
    "        with open(self.CarsDictFilePath,'w') as data:  \n",
    "            data.write(str(self.Cars))\n",
    "\n",
    "    def MakeCarUnavailable(self, CarName, Model, PerHourRent, Status):\n",
    "        self.Cars.update({CarName: (Model, PerHourRent, Status)})\n",
    "        with open(self.CarsDictFilePath,'w') as data:  \n",
    "            data.write(str(self.Cars))\n",
    "\n",
    "    def RentACar(self):\n",
    "        print(\"Car Menu!\\n\")    \n",
    "        IndexCarName = list()\n",
    "        index = 1\n",
    "        for k,v in self.Cars.items():\n",
    "            print(f\"{index} - {k} {v}\")\n",
    "            IndexCarName.append(k)\n",
    "            index += 1\n",
    "\n",
    "        print()\n",
    "        ChoiceIndex = int(input(\"Enter Choice Number: \"))\n",
    "        if ChoiceIndex > index - 1 or ChoiceIndex < 1:\n",
    "            print(\"Wrong Choice.\")\n",
    "        else:\n",
    "            CarName = IndexCarName[ChoiceIndex - 1]\n",
    "            print(\"Your choice:\", CarName)\n",
    "            \n",
    "            for key, value in self.Cars.items():\n",
    "                if key == CarName and value[2] == \"Unavailable\":\n",
    "                    print(f\"The car is unavailable.\")\n",
    "                    return\n",
    "                \n",
    "            CarHours = int(input(\"Enter number of hours for which you want to rent the car: \"))\n",
    "            for key, value in self.Cars.items():\n",
    "                if key == CarName and value[2] == \"Available\":\n",
    "                    print(f\"Total rent = Rs. {value[1] * CarHours}\")\n",
    "                    self.MakeCarUnavailable(CarName, value[0], value[1], \"Unavailable\")\n",
    "                    CarRented = True\n",
    "                    return\n",
    "        \n",
    "CRS = CarRentalSystem()\n",
    "CRS.AddCar('dragon', 'age', 54, 'Available')\n",
    "CRS.AddCar('reds', 'was', 24, 'Available')\n",
    "CRS.RentACar()\n"
   ]
  },
  {
   "cell_type": "code",
   "execution_count": null,
   "metadata": {},
   "outputs": [],
   "source": []
  }
 ],
 "metadata": {
  "kernelspec": {
   "display_name": "Python 3",
   "language": "python",
   "name": "python3"
  },
  "language_info": {
   "codemirror_mode": {
    "name": "ipython",
    "version": 3
   },
   "file_extension": ".py",
   "mimetype": "text/x-python",
   "name": "python",
   "nbconvert_exporter": "python",
   "pygments_lexer": "ipython3",
   "version": "3.10.13"
  }
 },
 "nbformat": 4,
 "nbformat_minor": 2
}
