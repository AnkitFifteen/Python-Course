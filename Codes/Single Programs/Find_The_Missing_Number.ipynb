{
 "cells": [
  {
   "cell_type": "code",
   "execution_count": 1,
   "metadata": {},
   "outputs": [
    {
     "name": "stdout",
     "output_type": "stream",
     "text": [
      "Missing number from logic 1: 8\n"
     ]
    },
    {
     "data": {
      "text/plain": [
       "8"
      ]
     },
     "execution_count": 1,
     "metadata": {},
     "output_type": "execute_result"
    }
   ],
   "source": [
    "'''\n",
    "find the missing number\n",
    "2 4 6 10 12\n",
    "'''\n",
    "\n",
    "number = [2,4,6,10,12]\n",
    "\n",
    "def logic_1(number):\n",
    "    checker_list = list()\n",
    "    checker_list.append(number[0])\n",
    "    \n",
    "    next_diff = number[1] - number[0]\n",
    "    if number[2] - number[1] == next_diff:\n",
    "        for index in range (0, len(number)):\n",
    "            checker_list.append(checker_list[index] + next_diff)\n",
    "\n",
    "    for element in checker_list:\n",
    "        if element not in number:\n",
    "            print(\"Missing number from logic 1:\", element)\n",
    "            return element\n",
    "\n",
    "logic_1(number)"
   ]
  }
 ],
 "metadata": {
  "kernelspec": {
   "display_name": "Python 3",
   "language": "python",
   "name": "python3"
  },
  "language_info": {
   "codemirror_mode": {
    "name": "ipython",
    "version": 3
   },
   "file_extension": ".py",
   "mimetype": "text/x-python",
   "name": "python",
   "nbconvert_exporter": "python",
   "pygments_lexer": "ipython3",
   "version": "3.10.13"
  }
 },
 "nbformat": 4,
 "nbformat_minor": 2
}
