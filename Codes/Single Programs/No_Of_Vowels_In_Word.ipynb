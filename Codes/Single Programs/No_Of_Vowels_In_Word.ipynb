{
 "cells": [
  {
   "cell_type": "code",
   "execution_count": 23,
   "metadata": {},
   "outputs": [
    {
     "name": "stdout",
     "output_type": "stream",
     "text": [
      "No. of vowels in the word Apple is 2\n",
      "Occurrence of  A  :  1\n",
      "Occurrence of  e  :  1\n",
      "\n",
      "No. of vowels in the word Mango is 2\n",
      "Occurrence of  a  :  1\n",
      "Occurrence of  o  :  1\n",
      "\n",
      "No. of vowels in the word Chikoo is 3\n",
      "Occurrence of  i  :  1\n",
      "Occurrence of  o  :  2\n",
      "\n"
     ]
    }
   ],
   "source": [
    "#No. of vowels in word game\n",
    "\n",
    "words = ['Apple', 'Mango', 'Chikoo']\n",
    "vowels = ['A', 'a', 'E', 'e', 'I', 'i', 'O', 'o', 'U', 'u']\n",
    "occurrence = 0\n",
    "letter_occurrence = 0\n",
    "\n",
    "'''\n",
    "word_dictionary = {'A':0, 'p':0, 'p':0, 'l':0, 'e':0,}\n",
    "word_dictionary[letter]. \n",
    "\n",
    "A - \n",
    "p \n",
    "p \n",
    "l \n",
    "e\n",
    "'''\n",
    "\n",
    "word_dictionary = dict()\n",
    "\n",
    "for word in words:\n",
    "    for letter in word:\n",
    "        if letter not in word_dictionary:\n",
    "            word_dictionary[letter] = 0\n",
    "        if letter in vowels:\n",
    "            occurrence = occurrence + 1\n",
    "            word_dictionary[letter] += 1\n",
    "    \n",
    "    print(\"No. of vowels in the word\", word, \"is\", occurrence)\n",
    "\n",
    "    for key, value in word_dictionary.items():\n",
    "        if value > 0:\n",
    "            print(\"Occurrence of \", key, \" : \", value)\n",
    "\n",
    "    occurrence = 0\n",
    "    print()\n",
    "    word_dictionary.clear()\n",
    "\n"
   ]
  },
  {
   "cell_type": "code",
   "execution_count": 7,
   "metadata": {},
   "outputs": [
    {
     "data": {
      "text/plain": [
       "1"
      ]
     },
     "execution_count": 7,
     "metadata": {},
     "output_type": "execute_result"
    }
   ],
   "source": [
    "word_dictionary = {'A':0, 'p':0, 'p':0, 'l':0, 'e':0,}\n",
    "word_dictionary.\n",
    "word_dictionary['A'] += 1\n",
    "word_dictionary['A']"
   ]
  },
  {
   "cell_type": "code",
   "execution_count": 6,
   "metadata": {},
   "outputs": [
    {
     "data": {
      "text/plain": [
       "2"
      ]
     },
     "execution_count": 6,
     "metadata": {},
     "output_type": "execute_result"
    }
   ],
   "source": []
  },
  {
   "cell_type": "code",
   "execution_count": null,
   "metadata": {},
   "outputs": [],
   "source": []
  }
 ],
 "metadata": {
  "kernelspec": {
   "display_name": "Python 3",
   "language": "python",
   "name": "python3"
  },
  "language_info": {
   "codemirror_mode": {
    "name": "ipython",
    "version": 3
   },
   "file_extension": ".py",
   "mimetype": "text/x-python",
   "name": "python",
   "nbconvert_exporter": "python",
   "pygments_lexer": "ipython3",
   "version": "3.10.13"
  }
 },
 "nbformat": 4,
 "nbformat_minor": 2
}
