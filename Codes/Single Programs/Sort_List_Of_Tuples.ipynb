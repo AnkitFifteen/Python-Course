{
 "cells": [
  {
   "cell_type": "code",
   "execution_count": null,
   "metadata": {},
   "outputs": [],
   "source": [
    "\"\"\"\n",
    "SORT LIST PROG METHOD #1\n",
    "\n",
    "original_list = [(1,2,3), (3,4,6), (2,1,3)]\n",
    "sort using 2nd ele, 2 4 1\n",
    "\n",
    "Expected O/P:\n",
    "sorted_list = [(2,1,3), (1,2,3), (3,4,6)]\n",
    "\"\"\"\n",
    "\n",
    "original_list = [(1,2,3), (3,4,6), (2,1,3)]\n",
    "sorted_list = list()\n",
    "\n",
    "sort_pos_index = 1\n",
    "sort_pos_index_vals = list()\n",
    "\n",
    "# saving the mid ele of each tuple in `sort_pos_index_vals`\n",
    "for original_list_index in range(0, len(original_list)):\n",
    "    sort_pos_index_vals.append(original_list[original_list_index][sort_pos_index])\n",
    "\n",
    "# Sorting `sort_pos_index_vals` in asc order\n",
    "index_count = 0\n",
    "for val in sort_pos_index_vals:\n",
    "    least_value = min(sort_pos_index_vals[index_count:])\n",
    "    sort_pos_index_vals.remove(least_value)\n",
    "    sort_pos_index_vals.insert(index_count, least_value)\n",
    "    index_count += 1\n",
    "\n",
    "# Finding tuples from original_list according to `sort_pos_index_vals`\n",
    "for val in sort_pos_index_vals:\n",
    "    if original_list[0][1] == val:\n",
    "        sorted_list.append(original_list[0])\n",
    "    \n",
    "    if original_list[1][1] == val:\n",
    "        sorted_list.append(original_list[1])\n",
    "        \n",
    "    if original_list[2][1] == val:\n",
    "        sorted_list.append(original_list[2])\n",
    "\n",
    "print(sorted_list)"
   ]
  },
  {
   "cell_type": "code",
   "execution_count": 9,
   "metadata": {},
   "outputs": [
    {
     "name": "stdout",
     "output_type": "stream",
     "text": [
      "[(4, 1, 6), (5, 2, 1), (2, 3, 1)]\n"
     ]
    }
   ],
   "source": [
    "\"\"\"\n",
    "SORT LIST PROG METHOD #2\n",
    "\n",
    "original_list = (2,3,1), (4,1,6), (5,2,1)]\n",
    "sort using 2nd ele, 3 1 2\n",
    "\n",
    "Expected O/P:\n",
    "sorted_list = [(4,1,6), (5,2,1), (2,3,1)]\n",
    "\"\"\"\n",
    "\n",
    "original_list = [(2,3,1), (4,1,6), (5,2,1)]\n",
    "sorted_list = list()\n",
    "mid_elements = list()\n",
    "\n",
    "for index in original_list:\n",
    "    mid_elements.append(index[1])\n",
    "\n",
    "mid_elements.sort()\n",
    "\n",
    "for index in mid_elements:\n",
    "    for iter in original_list:\n",
    "        if iter[1] == index:\n",
    "            sorted_list.append(iter)\n",
    "\n",
    "print(sorted_list)\n"
   ]
  },
  {
   "cell_type": "code",
   "execution_count": null,
   "metadata": {},
   "outputs": [],
   "source": []
  }
 ],
 "metadata": {
  "kernelspec": {
   "display_name": "Python 3",
   "language": "python",
   "name": "python3"
  },
  "language_info": {
   "codemirror_mode": {
    "name": "ipython",
    "version": 3
   },
   "file_extension": ".py",
   "mimetype": "text/x-python",
   "name": "python",
   "nbconvert_exporter": "python",
   "pygments_lexer": "ipython3",
   "version": "3.10.13"
  }
 },
 "nbformat": 4,
 "nbformat_minor": 2
}
