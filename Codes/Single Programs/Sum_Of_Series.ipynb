{
 "cells": [
  {
   "cell_type": "code",
   "execution_count": 5,
   "metadata": {},
   "outputs": [
    {
     "name": "stdout",
     "output_type": "stream",
     "text": [
      "12\n",
      "16\n",
      "25\n"
     ]
    }
   ],
   "source": [
    "'''\n",
    "Using Recursion\n",
    "Input: n \n",
    "n + (n-2) + (n-4) + (n-6).... (n-n) = 0\n",
    "6 + 4 + 2 + 0 = 12\n",
    "'''\n",
    "def SumSeries(n):\n",
    "    if n <= 0:\n",
    "        return 0\n",
    "    else:\n",
    "        return n + SumSeries(n-2)\n",
    "        \n",
    "print(SumSeries(6))\n",
    "print(SumSeries(7))\n",
    "print(SumSeries(9))"
   ]
  },
  {
   "cell_type": "code",
   "execution_count": 7,
   "metadata": {},
   "outputs": [
    {
     "name": "stdout",
     "output_type": "stream",
     "text": [
      "Sum =  16\n"
     ]
    }
   ],
   "source": [
    "'''\n",
    "Using For loop\n",
    "Input: n \n",
    "n + (n-2) + (n-4) + (n-6).... (n-n) = 0\n",
    "\n",
    "assume +ve output\n",
    "example n = 1\n",
    "output = 1\n",
    "\n",
    "example n = 5\n",
    "output = 5 + 3 + 1 = 9\n",
    "\n",
    "example n = 9\n",
    "9 + (9-2) + (9-4) + (9-6) + (9-8) + (9-10).....\n",
    "output = 9 + 7 + 5 + 3 + 1 = 25\n",
    "'''\n",
    "\n",
    "n = int(input(\"Enter summation multiplier: \"))\n",
    "result, doSum = 0, 0\n",
    "while n > doSum:\n",
    "    result += (n - doSum)\n",
    "    doSum += 2\n",
    "print(\"Sum = \", result)"
   ]
  },
  {
   "cell_type": "code",
   "execution_count": null,
   "metadata": {},
   "outputs": [],
   "source": []
  }
 ],
 "metadata": {
  "kernelspec": {
   "display_name": "Python 3",
   "language": "python",
   "name": "python3"
  },
  "language_info": {
   "codemirror_mode": {
    "name": "ipython",
    "version": 3
   },
   "file_extension": ".py",
   "mimetype": "text/x-python",
   "name": "python",
   "nbconvert_exporter": "python",
   "pygments_lexer": "ipython3",
   "version": "3.10.13"
  }
 },
 "nbformat": 4,
 "nbformat_minor": 2
}
