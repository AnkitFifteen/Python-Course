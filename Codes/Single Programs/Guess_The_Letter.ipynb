{
 "cells": [
  {
   "cell_type": "code",
   "execution_count": null,
   "metadata": {},
   "outputs": [],
   "source": [
    "import random\n",
    "words = ['APPLE','MANGO','WORLD','HAPPY']\n",
    "point = 0\n",
    "guess = 0\n",
    "for i in words:\n",
    "    k = random.choice(range(0,len(i)))\n",
    "    for j in range(0,len(i)):\n",
    "        if j == k:\n",
    "            print('_',end=\"\")\n",
    "        else:\n",
    "            print(i[j],end=\"\")\n",
    "    guess = 0\n",
    "    while guess < 2:\n",
    "        iletter = input(\"Guess the letter\")\n",
    "        if i[k] == iletter:\n",
    "            point = point + 1\n",
    "            guess = 2\n",
    "        else :\n",
    "            print(\"Incorrect Guess\")\n",
    "            guess = guess + 1\n",
    "        print(\"\")\n",
    "print(\"Final Points \",point)"
   ]
  }
 ],
 "metadata": {
  "language_info": {
   "name": "python"
  }
 },
 "nbformat": 4,
 "nbformat_minor": 2
}
