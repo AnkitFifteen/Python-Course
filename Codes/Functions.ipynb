{
 "cells": [
  {
   "cell_type": "code",
   "execution_count": 2,
   "metadata": {},
   "outputs": [
    {
     "name": "stdout",
     "output_type": "stream",
     "text": [
      "720\n"
     ]
    }
   ],
   "source": [
    "#Recursive function\n",
    "def fact(n):\n",
    "    if n == 1:\n",
    "        return 1\n",
    "    else:\n",
    "        return n * fact(n - 1)\n",
    "    \n",
    "print(fact(6))"
   ]
  },
  {
   "cell_type": "code",
   "execution_count": 5,
   "metadata": {},
   "outputs": [
    {
     "name": "stdout",
     "output_type": "stream",
     "text": [
      "[0, 1]\n"
     ]
    }
   ],
   "source": [
    "'''\n",
    "Fibonacci series using recursion\n",
    "ex. 0 1 1 2 3 5 8 13 \n",
    "\n",
    "fib[length - 1] + fib[length]\n",
    "\n",
    "'''\n",
    "\n",
    "fib = [0,1]\n",
    "def fibonacci(length):\n",
    "    if \n",
    "    return print(fibonacci(length - 1))\n",
    "\n",
    "    if length < 1:\n",
    "        print(\"Invalid length.\")\n",
    "    elif length == 1:\n",
    "        print(fib[0:1])\n",
    "    elif length == 2:\n",
    "        print(fib[0:2])\n",
    "    else:\n",
    "        print()\n",
    "\n",
    "fibonacci(3)\n"
   ]
  },
  {
   "cell_type": "code",
   "execution_count": 20,
   "metadata": {},
   "outputs": [
    {
     "data": {
      "text/plain": [
       "[0, 1, 1]"
      ]
     },
     "execution_count": 20,
     "metadata": {},
     "output_type": "execute_result"
    }
   ],
   "source": [
    "def fib(n):\n",
    "    "
   ]
  },
  {
   "cell_type": "code",
   "execution_count": 26,
   "metadata": {},
   "outputs": [
    {
     "data": {
      "text/plain": [
       "[0, 1, 1, 2, 3, 5, 8, 13, 21]"
      ]
     },
     "execution_count": 26,
     "metadata": {},
     "output_type": "execute_result"
    }
   ],
   "source": [
    "fib.append(fib[len(fib) - 2] + fib[len(fib) - 1])\n",
    "fib\n",
    "'''\n",
    "9\n",
    "8\n",
    "7\n",
    "6\n",
    "5\n",
    "4\n",
    "3\n",
    "2 -> print\n",
    "1 -> print(fib) -> final list\n",
    "'''\n"
   ]
  },
  {
   "cell_type": "code",
   "execution_count": 31,
   "metadata": {},
   "outputs": [
    {
     "name": "stdout",
     "output_type": "stream",
     "text": [
      "[0, 1]\n",
      "None\n",
      "None\n",
      "None\n",
      "None\n",
      "None\n",
      "None\n",
      "None\n"
     ]
    }
   ],
   "source": [
    "fib = [0,1]\n",
    "\n",
    "def fibonacci(length):\n",
    "    if length == 2:\n",
    "        print(fib)\n",
    "    else:\n",
    "        return print(fibonacci(length - 1))\n",
    "\n",
    "fibonacci(9)"
   ]
  },
  {
   "cell_type": "code",
   "execution_count": null,
   "metadata": {},
   "outputs": [],
   "source": [
    "'''\n",
    "find the missing number\n",
    "2 4 6 10 12\n",
    "'''\n",
    "\n",
    "number = [2,4,6,10,12]\n",
    "\n",
    "def logic_1(number):\n",
    "    checker_list = list()\n",
    "    checker_list.append(number[0])\n",
    "    \n",
    "    next_diff = number[1] - number[0]\n",
    "    if number[2] - number[1] == next_diff:\n",
    "        for index in range (0, len(number)):\n",
    "            checker_list.append(checker_list[index] + next_diff)\n",
    "\n",
    "    for element in checker_list:\n",
    "        if element not in number:\n",
    "            print(\"Missing from logic 1:\", element)\n",
    "            return element\n",
    "\n",
    "logic_1(number)"
   ]
  },
  {
   "cell_type": "code",
   "execution_count": 1,
   "metadata": {},
   "outputs": [
    {
     "name": "stdout",
     "output_type": "stream",
     "text": [
      "3.141592653589793\n",
      "5\n",
      "6\n",
      "8.0\n",
      "3.0\n",
      "40320\n",
      "25\n",
      "!\"#$%&'()*+,-./:;<=>?@[\\]^_`{|}~\n"
     ]
    }
   ],
   "source": [
    "import math\n",
    "print(math.pi)\n",
    "\n",
    "from math import *\n",
    "print(floor(5.6))\n",
    "print(ceil(5.6))\n",
    "print(pow(2,3))\n",
    "print(sqrt(9))\n",
    "print(factorial(8))\n",
    "\n",
    "from datetime import datetime\n",
    "print(datetime.today().day)\n",
    "\n",
    "import string\n",
    "print(string.punctuation)"
   ]
  },
  {
   "cell_type": "code",
   "execution_count": 7,
   "metadata": {},
   "outputs": [
    {
     "name": "stdout",
     "output_type": "stream",
     "text": [
      "Sum of all even numbers between 100 and 200 is 7550\n"
     ]
    }
   ],
   "source": [
    "'''\n",
    "create 3 files\n",
    "\n",
    "1st file -> find area, square, rectangle, triangle, circle\n",
    "2nd file -> cm to mtr, inch to cm, fahrenheit to celsius <-- conversion\n",
    "3rd file -> what 2 do? find area? do conversion?for which shape u want are? user i/p -> triangle\n",
    "'''\n",
    "\n",
    "max_find, sum = 100, 0\n",
    "while max_find < 200:\n",
    "    max_find += 2\n",
    "    sum += max_find\n",
    "\n",
    "print(\"Sum of all even numbers between 100 and 200 is\", sum)\n"
   ]
  },
  {
   "cell_type": "code",
   "execution_count": 25,
   "metadata": {},
   "outputs": [],
   "source": [
    "\"\"\"\n",
    "7550\n",
    "\"\"\"\n",
    "\n",
    "list_of_tuples = list()\n",
    "list_of_tuples.insert(0, (13,59,46))\n",
    "list_of_tuples.insert(1, (9,15,40))\n",
    "list_of_tuples.insert(2, (12,59,47))\n",
    "\n",
    "list_of_tuples[0] = (13,59,46)\n",
    "list_of_tuples[1] = (9,15,40)\n",
    "list_of_tuples[2] = (12,59,47)"
   ]
  },
  {
   "cell_type": "code",
   "execution_count": 36,
   "metadata": {},
   "outputs": [
    {
     "name": "stdout",
     "output_type": "stream",
     "text": [
      "Simple interest for set 1 is 352.82\n",
      "Simple interest for set 2 is 54.0\n",
      "Simple interest for set 3 is 332.76\n"
     ]
    }
   ],
   "source": [
    "list_of_tuples = list()\n",
    "list_of_tuples.insert(0, (13,59,46))\n",
    "list_of_tuples.insert(1, (9,15,40))\n",
    "list_of_tuples.insert(2, (12,59,47))\n",
    "\n",
    "def calculate_simple_interest(list_of_tuples):\n",
    "    set_number = 1\n",
    "    for value in list_of_tuples:\n",
    "        print(\"Simple interest for set\", set_number, \"is\", (value[0]*value[1]*value[2])/100)\n",
    "        set_number += 1\n",
    "\n",
    "calculate_simple_interest(list_of_tuples)\n"
   ]
  },
  {
   "cell_type": "code",
   "execution_count": 32,
   "metadata": {},
   "outputs": [
    {
     "name": "stdout",
     "output_type": "stream",
     "text": [
      "46\n",
      "40\n",
      "47\n"
     ]
    }
   ],
   "source": [
    "list_of_tuples = list()\n",
    "list_of_tuples.insert(0, (13,59,46))\n",
    "list_of_tuples.insert(1, (9,15,40))\n",
    "list_of_tuples.insert(2, (12,59,47))\n",
    "\n",
    "for value in list_of_tuples:\n",
    "    print(value[2])\n"
   ]
  },
  {
   "cell_type": "code",
   "execution_count": null,
   "metadata": {},
   "outputs": [],
   "source": []
  }
 ],
 "metadata": {
  "kernelspec": {
   "display_name": "Python 3",
   "language": "python",
   "name": "python3"
  },
  "language_info": {
   "codemirror_mode": {
    "name": "ipython",
    "version": 3
   },
   "file_extension": ".py",
   "mimetype": "text/x-python",
   "name": "python",
   "nbconvert_exporter": "python",
   "pygments_lexer": "ipython3",
   "version": "3.10.13"
  }
 },
 "nbformat": 4,
 "nbformat_minor": 2
}
